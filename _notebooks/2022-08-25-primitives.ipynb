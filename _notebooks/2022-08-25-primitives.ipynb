{
 "cells": [
  {
   "cell_type": "markdown",
   "metadata": {},
   "source": [
    "# Java - Primitives Learnings\n",
    "> Documenting Learnings using Primitives in Java\n",
    "\n",
    "- toc: false \n",
    "- badges: true\n",
    "- comments: true\n",
    "- categories: [jupyter]\n",
    "- image: images/Java-Logo.png"
   ]
  },
  {
   "cell_type": "markdown",
   "metadata": {},
   "source": [
    "## Input and Output Testing\n",
    "> Testing Input and Output using Primitives (integers, doubles, booleans and Wrapper for strings)"
   ]
  },
  {
   "cell_type": "code",
   "execution_count": 1,
   "metadata": {
    "vscode": {
     "languageId": "java"
    }
   },
   "outputs": [
    {
     "name": "stdout",
     "output_type": "stream",
     "text": [
      "Enter an integer: 4\n",
      "Enter a double: 4.3\n",
      "Enter a boolean: true\n",
      "Enter a String: hi\n"
     ]
    }
   ],
   "source": [
    "// import Scanner (java input tool)\n",
    "import java.util.Scanner;\n",
    "\n",
    "public class InputTest {\n",
    "    public static void main(String[] args) {    \n",
    "        Scanner input;\n",
    "\n",
    "        // inputting integers\n",
    "        input = new Scanner(System.in); //creates input object\n",
    "        System.out.print(\"Enter an integer: \");\n",
    "        try {\n",
    "            int sampleInputInt = input.nextInt(); // variable created called sampleInputInt given integer type\n",
    "            System.out.println(sampleInputInt);\n",
    "        } catch (Exception e) {  // if not an integer\n",
    "            System.out.println(\"Not an integer), \" + e);\n",
    "        }\n",
    "        input.close();\n",
    "    \n",
    "\n",
    "        input = new Scanner(System.in);\n",
    "        System.out.print(\"Enter a double: \");\n",
    "        try {\n",
    "            double sampleInputDouble = input.nextDouble();\n",
    "            System.out.println(sampleInputDouble);\n",
    "        } catch (Exception e) {  \n",
    "            System.out.println(\"Not an double (form like 9.99), \" + e);\n",
    "        }\n",
    "        input.close();\n",
    "\n",
    "\n",
    "        input =  new Scanner(System.in);\n",
    "        System.out.print(\"Enter a boolean: \");\n",
    "        try {\n",
    "            boolean sampleInputBoolean = input.nextBoolean();\n",
    "            System.out.println(sampleInputBoolean);\n",
    "        } catch (Exception e) {\n",
    "            System.out.println(\"Not an boolean (true or false), \" + e);\n",
    "        }\n",
    "        input.close();\n",
    "\n",
    "        input =  new Scanner(System.in);\n",
    "        System.out.print(\"Enter a String: \");\n",
    "        try {\n",
    "            String sampleInputString = input.nextLine();\n",
    "            System.out.println(sampleInputString);\n",
    "        } catch (Exception e) {\n",
    "            System.out.println(\"Not an String, \" + e);\n",
    "        }\n",
    "        input.close();\n",
    "\n",
    "    }\n",
    "}\n",
    "\n",
    "InputTest.main(null);"
   ]
  },
  {
   "cell_type": "markdown",
   "metadata": {},
   "source": [
    "## Demonstrating Primitive Knowledge\n",
    "> Un-weighted GPA calculator\n",
    "\n",
    "- Small bug related to calculating GPA, but overall code operates correctly."
   ]
  },
  {
   "cell_type": "code",
   "execution_count": 6,
   "metadata": {
    "vscode": {
     "languageId": "java"
    }
   },
   "outputs": [
    {
     "name": "stdout",
     "output_type": "stream",
     "text": [
      "Number of classes you are taking this trimester: \n",
      "What is your Grade in Period 1? ---> A\n",
      "What is your Grade in Period 2? ---> B\n",
      "What is your Grade in Period 3? ---> B\n",
      "What is your Grade in Period 4? ---> A\n",
      "What is your Grade in Period 5? ---> C\n",
      "Your Un-weighted GPA is:3.2\n"
     ]
    }
   ],
   "source": [
    "public class GPACalculator {\n",
    "\n",
    "    public static void main(String[] args) {  \n",
    "        \n",
    "        Scanner input = new Scanner(System.in);   \n",
    "        \n",
    "        String letterGrades = \"\";\n",
    "        double weight;\n",
    "        double sum = 0.00;\n",
    "        int num = 1;\n",
    "        double classes = 0;\n",
    "        \n",
    "        System.out.print(\"Number of classes you are taking this trimester: \\n\");\n",
    "        \n",
    "        classes = input.nextInt();\n",
    "     \n",
    "        for (int i = 0; i < classes; i++) {\n",
    "        \n",
    "            Scanner input2 = new Scanner(System.in);\n",
    "            System.out.print(\"What is your Grade in Period \" + num + \"? ---> \");\n",
    "            letterGrades = input2.nextLine();\n",
    "            System.out.print(letterGrades + \"\\n\");\n",
    "            \n",
    "    \n",
    "            if (letterGrades.equals(\"A\")){\n",
    "            weight = 4.00; \n",
    "            sum += weight;\n",
    "    \n",
    "        } else if (letterGrades.equals(\"B\")){\n",
    "            weight = 3.00;\n",
    "            sum += weight;\n",
    "    \n",
    "        } else if (letterGrades.equals(\"C\")){\n",
    "            weight = 2.00;\n",
    "            sum += weight;\n",
    "    \n",
    "        } else if (letterGrades.equals(\"D\")){\n",
    "            weight = 1.00;\n",
    "            sum += weight;\n",
    "    \n",
    "        } else if (letterGrades.equals(\"F\")){\n",
    "            weight = 0.00;\n",
    "            sum += weight;\n",
    "    \n",
    "        }\n",
    "\n",
    "        num = num + 1;\n",
    "    \n",
    "        }\n",
    "    \n",
    "        double GPA = sum / classes;\n",
    "        System.out.println(\"Your Un-weighted GPA is:\" + GPA);\n",
    "    }\n",
    "\n",
    "}\n",
    "\n",
    "GPACalculator.main(null);"
   ]
  }
 ],
 "metadata": {
  "kernelspec": {
   "display_name": "Java",
   "language": "java",
   "name": "java"
  },
  "language_info": {
   "codemirror_mode": "java",
   "file_extension": ".jshell",
   "mimetype": "text/x-java-source",
   "name": "Java",
   "pygments_lexer": "java",
   "version": "17.0.4.1+1-LTS-2"
  },
  "orig_nbformat": 4
 },
 "nbformat": 4,
 "nbformat_minor": 2
}
