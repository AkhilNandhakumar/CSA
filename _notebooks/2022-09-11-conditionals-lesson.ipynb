{
 "cells": [
  {
   "cell_type": "markdown",
   "metadata": {},
   "source": [
    "# Conditionals and Boolean Expressions\n",
    "> Lesson on Conditionals and Boolean Expressions + De Morgans Law\n",
    "\n",
    "- toc: false \n",
    "- badges: true\n",
    "- comments: true\n",
    "- categories: [Unit-3]\n",
    "- hide: false"
   ]
  },
  {
   "cell_type": "markdown",
   "metadata": {},
   "source": [
    "## Conditionals and Booleans\n",
    "\n",
    "- Conditionals with regards to programming are pieces of code that tell the computer which path to take in running a program\n",
    "- If a certain condition is met, the computer will run a certain section of code\n",
    "- if the condition is not met, the computer will run a different section of code\n",
    "- A conditional statement is a boolean expression, the segment evaluates to either **true** of **false**\n",
    "- conditionals can be used within other conditional statements depending on the outcome of code\n",
    "- keeping these expressions simple makes code easy to understand\n",
    "\n",
    "## If\n",
    "- an \"If\" statement is the simplest conditional. Usage below."
   ]
  },
  {
   "cell_type": "code",
   "execution_count": 10,
   "metadata": {
    "vscode": {
     "languageId": "java"
    }
   },
   "outputs": [
    {
     "name": "stdout",
     "output_type": "stream",
     "text": [
      "num is greater than 18\n"
     ]
    }
   ],
   "source": [
    "public class If{\n",
    "    public static void main(String[] arg){\n",
    "   \n",
    "        int num = 20; //create a variable \n",
    "        \n",
    "        if(num>18){ // check if condition is true of false (Boolean)\n",
    "\n",
    "            System.out.println(\"num is greater than 18\"); // print output if true\n",
    "        }\n",
    "    }\n",
    "}\n",
    "\n",
    "If.main(null);"
   ]
  },
  {
   "cell_type": "markdown",
   "metadata": {},
   "source": [
    "## Else\n",
    "- an \"Else\" statement is a conditional that is evaluated if the previous \"if\" conditional evaluates to false. Usage below."
   ]
  },
  {
   "cell_type": "code",
   "execution_count": 11,
   "metadata": {
    "vscode": {
     "languageId": "java"
    }
   },
   "outputs": [
    {
     "name": "stdout",
     "output_type": "stream",
     "text": [
      "num is not greater than 18\n"
     ]
    }
   ],
   "source": [
    "public class IfandElse{\n",
    "    public static void main(String[] arg){\n",
    "   \n",
    "        int num = 20; //create a variable \n",
    "        \n",
    "        if(num>30){ // check if condition is true of false (Boolean)\n",
    "\n",
    "            System.out.println(\"num is greater than 18\"); // print output if true\n",
    "        }\n",
    "        else{\n",
    "            System.out.println(\"num is not greater than 18\"); // print output when \"if\" evaluates to false\n",
    "        }\n",
    "    }\n",
    "}\n",
    "\n",
    "IfandElse.main(null);"
   ]
  },
  {
   "cell_type": "markdown",
   "metadata": {},
   "source": [
    "## ElseIf\n",
    "- an \"ElseIf\" conditional is used when more than 2 conditionals are required for a certain task.\n",
    "- And \"ElseIf\" will evaluate if the previous \"if\" of \"elseif\" statement evaluates to false. \n",
    "- can be used many many time in one segment\n",
    "usage below."
   ]
  },
  {
   "cell_type": "code",
   "execution_count": 12,
   "metadata": {
    "vscode": {
     "languageId": "java"
    }
   },
   "outputs": [
    {
     "name": "stdout",
     "output_type": "stream",
     "text": [
      "All previous conditionals evaluaate to false, num >= 70\n"
     ]
    }
   ],
   "source": [
    "public class ElseIf{\n",
    "    public static void main(String[] arg){\n",
    "   \n",
    "        int num = 100; //create a variable \n",
    "        \n",
    "        if(num<10){ // check if condition is true of false (Boolean)\n",
    "\n",
    "            System.out.println(\"num is greater than 18\"); // print output if true\n",
    "        }\n",
    "        else if(num<40){\n",
    "            System.out.println(\"num is less than 40\"); // print output when previous conditional evaluates to false\n",
    "        }\n",
    "        else if(num<50){\n",
    "            System.out.println(\"num is less than 50\");// print output when previous conditional evaluates to false\n",
    "        }\n",
    "        else if(num<60){\n",
    "            System.out.println(\"num is less than 60\"); // print output when previous conditional evaluates to false\n",
    "        }\n",
    "        else if(num<70){\n",
    "            System.out.println(\"num is less than 50\"); // print output when previous conditional evaluates to false\n",
    "        }\n",
    "        else{\n",
    "            System.out.println(\"All previous conditionals evaluaate to false, num >= 70\"); // print output when all previous conditionals are false\n",
    "        }\n",
    "    }\n",
    "}\n",
    "ElseIf.main(null);"
   ]
  },
  {
   "cell_type": "markdown",
   "metadata": {},
   "source": [
    "## De Morgan's Law\n",
    "- Complex conditional statements can be hard to evaluate when looking at \"!\" or \"not\" operators, and comparison operators, like >, <, >=, <=, ||, &&, and more\n",
    "- De morgan's law helps by explaining how operators change when a \"!\" negation is present\n",
    "\n",
    "### Conversions:\n",
    "- < becomes >=\n",
    "- > becomes <=\n",
    "- == becomes !=\n",
    "- <= becomes >\n",
    "- >= becomes <\n",
    "- != becomes ==\n",
    "\n",
    "Usage Example Below:"
   ]
  },
  {
   "cell_type": "code",
   "execution_count": 17,
   "metadata": {
    "vscode": {
     "languageId": "java"
    }
   },
   "outputs": [
    {
     "name": "stdout",
     "output_type": "stream",
     "text": [
      "1. Condition is met\n",
      "2. By removing '!' negation and converting using DemMorgans law, this will also be true.\n"
     ]
    }
   ],
   "source": [
    "public class DeMorgans{\n",
    "    public static void main(String[] arg){\n",
    "        int x = 2;\n",
    "        int y = 3;\n",
    "\n",
    "        // Confusing expression, difficult to look at and evaluate outcome\n",
    "        if (!(x > 3 && y < 2)){\n",
    "            System.out.println(\"1. Condition is met\");\n",
    "        }\n",
    "\n",
    "        // converting comparison operators and removing ! using DeMorgan's Law\n",
    "        if (x <= 3 && y >= 2){ \n",
    "            System.out.println(\"2. By removing '!' negation and converting using DemMorgans law, this will also be true.\");\n",
    "        }\n",
    "    }\n",
    "}\n",
    "\n",
    "DeMorgans.main(null);"
   ]
  }
 ],
 "metadata": {
  "kernelspec": {
   "display_name": "Java",
   "language": "java",
   "name": "java"
  },
  "language_info": {
   "codemirror_mode": "java",
   "file_extension": ".jshell",
   "mimetype": "text/x-java-source",
   "name": "Java",
   "pygments_lexer": "java",
   "version": "17.0.4.1+1-LTS-2"
  },
  "orig_nbformat": 4,
  "vscode": {
   "interpreter": {
    "hash": "aee8b7b246df8f9039afb4144a1f6fd8d2ca17a180786b69acc140d282b71a49"
   }
  }
 },
 "nbformat": 4,
 "nbformat_minor": 2
}
