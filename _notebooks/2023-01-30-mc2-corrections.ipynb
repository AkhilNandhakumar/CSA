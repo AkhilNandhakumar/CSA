{
 "cells": [
  {
   "cell_type": "markdown",
   "metadata": {},
   "source": [
    "# 66 Question MCQ Corrections\n",
    "> 66 Question MCQ\n",
    "\n",
    "- title: 66 Question MCQ Corrections\n",
    "- toc: true \n",
    "- badges: true\n",
    "- comments: true"
   ]
  },
  {
   "attachments": {},
   "cell_type": "markdown",
   "metadata": {},
   "source": [
    "![](../images/mc2.png)"
   ]
  },
  {
   "attachments": {},
   "cell_type": "markdown",
   "metadata": {},
   "source": [
    "## Corrections\n",
    "\n",
    "### Question 4\n",
    "- I chose D, because I misread newStr as being assigned oldStr.substring(1, 3) + oldStr.substring(3).\n",
    "- It should have been C because oldStr.substring(4) returns the substring of oldStr starting at index 4 and going to the end of oldStr, or \"EF\", which results in a final string of having BCEF\n",
    "\n",
    "### Question 47\n",
    "- I made a silly mistake and added up all of the array elements without remembering to double the first item in each row, correct answer would be 26, not 21"
   ]
  },
  {
   "attachments": {},
   "cell_type": "markdown",
   "metadata": {},
   "source": [
    "## Reflection\n",
    "\n",
    "I understand all of the concepts for each question, and feel good about taking the MC portion of the AP exam. I only missed 2 questions due to silly mistakes or just going too fast. Similar to the first mc we did, I did much better on 2D array questions. I want to work on working faster and more accurately since I split this up into a few sessions. Within the given time limit on the AP Exam, I should be able to finish on time, but it is a bit close, which is why I want to work on being a bit more efficient when answering the problems."
   ]
  }
 ],
 "metadata": {
  "kernelspec": {
   "display_name": "Java",
   "language": "java",
   "name": "java"
  },
  "language_info": {
   "name": "java",
   "version": "3.10.6 (main, Aug 11 2022, 13:47:18) [Clang 12.0.0 (clang-1200.0.32.29)]"
  },
  "orig_nbformat": 4,
  "vscode": {
   "interpreter": {
    "hash": "aee8b7b246df8f9039afb4144a1f6fd8d2ca17a180786b69acc140d282b71a49"
   }
  }
 },
 "nbformat": 4,
 "nbformat_minor": 2
}
