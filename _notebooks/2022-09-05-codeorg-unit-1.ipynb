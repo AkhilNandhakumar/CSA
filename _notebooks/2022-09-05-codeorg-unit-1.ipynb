{
 "cells": [
  {
   "cell_type": "markdown",
   "metadata": {},
   "source": [
    "# Code.Org Unit 1\n",
    "> Takeaways from Code.org Unit 1\n",
    "\n",
    "- toc: false \n",
    "- badges: true\n",
    "- comments: true\n",
    "- categories: [Misc-Notebooks]\n",
    "- hide: false"
   ]
  },
  {
   "cell_type": "code",
   "execution_count": null,
   "metadata": {},
   "outputs": [],
   "source": [
    "// Creating a Class\n",
    "\n",
    "public class Painter"
   ]
  },
  {
   "cell_type": "code",
   "execution_count": null,
   "metadata": {},
   "outputs": [],
   "source": [
    "// Creating an Object called myPainter of Class Painter\n",
    "\n",
    "Painter myPainter = new Painter();"
   ]
  },
  {
   "cell_type": "code",
   "execution_count": null,
   "metadata": {},
   "outputs": [],
   "source": [
    "// calling a method using dot notation\n",
    "myPainter.moveForward();\n",
    "\n",
    "myPainter.turnRight();\n",
    "\n",
    "myPainter.methodName();"
   ]
  },
  {
   "cell_type": "code",
   "execution_count": null,
   "metadata": {},
   "outputs": [],
   "source": [
    "// Extends, known as inheritance\n",
    "\n",
    "public class PainterPlus extends Painter { \n",
    "    public PainterPlus() {\n",
    "        super();\n",
    "    }\n",
    "}"
   ]
  },
  {
   "cell_type": "markdown",
   "metadata": {},
   "source": [
    "### Extends / Inheritance\n",
    "- Extending another Class inherits all of the methods and attributes from that class.\n",
    "- Class being extended is called the super class\n",
    "- Class extending is called subclass"
   ]
  }
 ],
 "metadata": {
  "kernelspec": {
   "display_name": "Python 3.10.6 64-bit",
   "language": "python",
   "name": "python3"
  },
  "language_info": {
   "name": "python",
   "version": "3.10.6"
  },
  "orig_nbformat": 4,
  "vscode": {
   "interpreter": {
    "hash": "aee8b7b246df8f9039afb4144a1f6fd8d2ca17a180786b69acc140d282b71a49"
   }
  }
 },
 "nbformat": 4,
 "nbformat_minor": 2
}
