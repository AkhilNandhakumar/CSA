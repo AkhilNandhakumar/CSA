{
 "cells": [
  {
   "cell_type": "markdown",
   "metadata": {},
   "source": [
    "# Final Blog\n",
    "> Final Blog\n",
    "\n",
    "- title: Final Blog\n",
    "- toc: true\n",
    "- badges: false"
   ]
  },
  {
   "cell_type": "markdown",
   "metadata": {},
   "source": [
    "## Test Corrections\n",
    "\n",
    "## Reflection"
   ]
  },
  {
   "cell_type": "markdown",
   "metadata": {},
   "source": [
    "## Unit 1 Homework - Code Below\n",
    "##### Repo Link: [LINK]()"
   ]
  },
  {
   "cell_type": "code",
   "execution_count": 2,
   "metadata": {},
   "outputs": [
    {
     "name": "stdout",
     "output_type": "stream",
     "text": [
      "Is final in a separate category: (true/false)\n",
      "Current grade? 91.23\n",
      "Test category weight: 80\n",
      "total points in test category: 650\n",
      "final points: 150\n",
      "your grade in test category: 89.6\n",
      "desired grade: 90.0\n",
      "You need to get at least a 81.40% on you final to get a 90.0"
     ]
    }
   ],
   "source": [
    "import java.util.Scanner;\n",
    "\n",
    "public class GradeCalculator {\n",
    "    public static void main(String[] args) {\n",
    "        Scanner input = new Scanner(System.in);\n",
    "        System.out.println(\"Is final in a separate category: (true/false)\");\n",
    "        boolean check = input.nextBoolean();\n",
    "\n",
    "        if(check){\n",
    "            System.out.println(\"Current Grade:\");\n",
    "            double currentGrade = input.nextDouble();\n",
    "\n",
    "            System.out.println(\"Desired Grade:\");\n",
    "            double desiredGrade = input.nextDouble();\n",
    "\n",
    "            System.out.println(\"How much percent of your grade is the final:\");\n",
    "            double finalPercent = input.nextDouble();\n",
    "            double finalGrade = ((desiredGrade-((1-finalPercent/100)*currentGrade))/(finalPercent/100));\n",
    "            System.out.println(\"You need: \" + finalGrade + \"%\");\n",
    "            input.close();\n",
    "        }\n",
    "\n",
    "        else{\n",
    "            System.out.print(\"Current grade? \");\n",
    "            double currentGrade = input.nextDouble();\n",
    "            System.out.println(currentGrade);\n",
    "\n",
    "            System.out.print(\"Test category weight: \");\n",
    "            int testCat = input.nextInt();\n",
    "            System.out.println(testCat);\n",
    "\n",
    "            System.out.print(\"total points in test category: \");\n",
    "            int testCatPoints = input.nextInt();\n",
    "            System.out.println(testCatPoints);\n",
    "\n",
    "            System.out.print(\"final points: \");\n",
    "            int finalPoints = input.nextInt();\n",
    "            System.out.println(finalPoints);\n",
    "\n",
    "            System.out.print(\"your grade in test category: \");\n",
    "            double testCatGrade = input.nextDouble();\n",
    "            System.out.println(testCatGrade);\n",
    "\n",
    "            System.out.print(\"desired grade: \");\n",
    "            double desiredGrade = input.nextDouble();\n",
    "            System.out.println(desiredGrade);\n",
    "\n",
    "            double finalScore = ((0.01*testCatGrade*finalPoints*testCat)-(finalPoints*currentGrade)+(finalPoints*desiredGrade)-(currentGrade*testCatPoints)+(testCatPoints*desiredGrade))/testCat;\n",
    "            System.out.print(\"You need to get at least a \" + String.format(\"%.2f\", (finalScore/finalPoints)*100) + \"% on you final to get a \" + desiredGrade);\n",
    "        }\n",
    "\n",
    "    }\n",
    "}\n",
    "   \n",
    "GradeCalculator.main(null);"
   ]
  },
  {
   "cell_type": "markdown",
   "metadata": {},
   "source": [
    "## Unit 2 Homework - [LINK](https://akhilnandhakumar.github.io/CSA/unit-2/2022/10/22/cb2-hw.html)\n",
    "## Unit 3 Homework - [LINK](https://akhilnandhakumar.github.io/CSA/unit-3/2022/10/22/cb3-hw.html)\n",
    "## Unit 4 Homework - [LINK](https://akhilnandhakumar.github.io/CSA/unit-4/2022/10/22/cb4-hw.html)\n",
    "## Unit 5 Homework - [LINK](https://akhilnandhakumar.github.io/CSA/unit-5/2022/10/22/cb5-hw.html)"
   ]
  }
 ],
 "metadata": {
  "kernelspec": {
   "display_name": "Java",
   "language": "java",
   "name": "java"
  },
  "language_info": {
   "codemirror_mode": "java",
   "file_extension": ".jshell",
   "mimetype": "text/x-java-source",
   "name": "java",
   "pygments_lexer": "java",
   "version": "17.0.4.1+1-LTS-2"
  },
  "orig_nbformat": 4
 },
 "nbformat": 4,
 "nbformat_minor": 2
}
