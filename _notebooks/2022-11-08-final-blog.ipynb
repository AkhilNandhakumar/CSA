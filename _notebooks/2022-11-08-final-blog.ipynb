{
 "cells": [
  {
   "cell_type": "markdown",
   "metadata": {},
   "source": [
    "# Final Blog\n",
    "> Final Blog\n",
    "\n",
    "- title: Final Blog\n",
    "- toc: true\n",
    "- badges: false"
   ]
  },
  {
   "cell_type": "markdown",
   "metadata": {},
   "source": [
    "## Test Corrections\n",
    "![](../images/mcq.png)\n",
    "- Question 4:\n",
    "    - I answered 2.33333333 instead of 2, because I didn't check to see what type of variable the num was. Because the variable type was Int, the result would be truncated to 2, not a double.\n",
    "\n",
    "- Question 15\n",
    "    - I thought solution II worked, and it technically did, but I did not iterate the whole way through and assumed that the for loop had the correct length, but it throws and outOfBounds error because it iterates too many times.\n",
    "\n",
    "- Question 23\n",
    "    - My answer would have worked if the condition for the loop was k > 1, not k > 0. I need to just read more carefully so that when I would out the iteration steps, I get the correct outputs.\n",
    "\n",
    "- Question 36\n",
    "    - I missclicked, this question was really easy, I thought I chose the correct answer but I guess I didn't,\n",
    "\n",
    "## Reflection\n",
    "Overall, I did really well. a 36/40 on the MCQ section and a good performance on the FRQ section would be a 5 on the ap exam. The part I really need to work on is maybe slowing down a bit and making sure I read the code given more closely to avoid making silly mistakes. All of the mistakes I made were not conceptual which is good, but to get a perfect score I need ot pay more attention on the instruction on the questions. "
   ]
  },
  {
   "cell_type": "markdown",
   "metadata": {},
   "source": [
    "## Unit 1 Homework - Code Below\n",
    "## Unit 1 Notes[LINK](https://akhilnandhakumar.github.io/CSA/unit-1/2022/10/16/unit-1-blog.html)\n",
    "##### Repo Link: [LINK](https://github.com/AkhilNandhakumar/unit-1-homework)"
   ]
  },
  {
   "cell_type": "code",
   "execution_count": 2,
   "metadata": {},
   "outputs": [
    {
     "name": "stdout",
     "output_type": "stream",
     "text": [
      "Is final in a separate category: (true/false)\n",
      "Current grade? 91.23\n",
      "Test category weight: 80\n",
      "total points in test category: 650\n",
      "final points: 150\n",
      "your grade in test category: 89.6\n",
      "desired grade: 90.0\n",
      "You need to get at least a 81.40% on you final to get a 90.0"
     ]
    }
   ],
   "source": [
    "import java.util.Scanner;\n",
    "\n",
    "public class GradeCalculator {\n",
    "    public static void main(String[] args) {\n",
    "        Scanner input = new Scanner(System.in);\n",
    "        System.out.println(\"Is final in a separate category: (true/false)\");\n",
    "        boolean check = input.nextBoolean();\n",
    "\n",
    "        if(check){\n",
    "            System.out.println(\"Current Grade:\");\n",
    "            double currentGrade = input.nextDouble();\n",
    "\n",
    "            System.out.println(\"Desired Grade:\");\n",
    "            double desiredGrade = input.nextDouble();\n",
    "\n",
    "            System.out.println(\"How much percent of your grade is the final:\");\n",
    "            double finalPercent = input.nextDouble();\n",
    "            double finalGrade = ((desiredGrade-((1-finalPercent/100)*currentGrade))/(finalPercent/100));\n",
    "            System.out.println(\"You need: \" + finalGrade + \"%\");\n",
    "            input.close();\n",
    "        }\n",
    "\n",
    "        else{\n",
    "            System.out.print(\"Current grade? \");\n",
    "            double currentGrade = input.nextDouble();\n",
    "            System.out.println(currentGrade);\n",
    "\n",
    "            System.out.print(\"Test category weight: \");\n",
    "            int testCat = input.nextInt();\n",
    "            System.out.println(testCat);\n",
    "\n",
    "            System.out.print(\"total points in test category: \");\n",
    "            int testCatPoints = input.nextInt();\n",
    "            System.out.println(testCatPoints);\n",
    "\n",
    "            System.out.print(\"final points: \");\n",
    "            int finalPoints = input.nextInt();\n",
    "            System.out.println(finalPoints);\n",
    "\n",
    "            System.out.print(\"your grade in test category: \");\n",
    "            double testCatGrade = input.nextDouble();\n",
    "            System.out.println(testCatGrade);\n",
    "\n",
    "            System.out.print(\"desired grade: \");\n",
    "            double desiredGrade = input.nextDouble();\n",
    "            System.out.println(desiredGrade);\n",
    "\n",
    "            double finalScore = ((0.01*testCatGrade*finalPoints*testCat)-(finalPoints*currentGrade)+(finalPoints*desiredGrade)-(currentGrade*testCatPoints)+(testCatPoints*desiredGrade))/testCat;\n",
    "            System.out.print(\"You need to get at least a \" + String.format(\"%.2f\", (finalScore/finalPoints)*100) + \"% on you final to get a \" + desiredGrade);\n",
    "        }\n",
    "\n",
    "    }\n",
    "}\n",
    "   \n",
    "GradeCalculator.main(null);"
   ]
  },
  {
   "cell_type": "markdown",
   "metadata": {},
   "source": [
    "## Unit 2 Homework - [LINK](https://akhilnandhakumar.github.io/CSA/unit-2/2022/10/22/cb2-hw.html)\n",
    "\n",
    "- Unit 2 Notes [LINK](https://akhilnandhakumar.github.io/CSA/unit-2/2022/10/16/unit-2-blog.html)\n",
    "\n",
    "## Unit 3 Homework - [LINK](https://akhilnandhakumar.github.io/CSA/unit-3/2022/10/22/cb3-hw.html)\n",
    "\n",
    "- Unit 3 Notes [LINK](https://akhilnandhakumar.github.io/CSA/unit-3/2022/09/11/conditionals-lesson.html)\n",
    "\n",
    "## Unit 4 Homework - [LINK](https://akhilnandhakumar.github.io/CSA/unit-4/2022/10/22/cb4-hw.html)\n",
    "\n",
    "- Unit 4 Notes [LINK](https://akhilnandhakumar.github.io/CSA/2022/11/09/unit4notes.html)\n",
    "\n",
    "## Unit 5 Homework - [LINK](https://akhilnandhakumar.github.io/CSA/unit-5/2022/10/22/cb5-hw.html)"
   ]
  }
 ],
 "metadata": {
  "kernelspec": {
   "display_name": "Java",
   "language": "java",
   "name": "java"
  },
  "language_info": {
   "codemirror_mode": "java",
   "file_extension": ".jshell",
   "mimetype": "text/x-java-source",
   "name": "java",
   "pygments_lexer": "java",
   "version": "17.0.4.1+1-LTS-2"
  },
  "orig_nbformat": 4
 },
 "nbformat": 4,
 "nbformat_minor": 2
}
