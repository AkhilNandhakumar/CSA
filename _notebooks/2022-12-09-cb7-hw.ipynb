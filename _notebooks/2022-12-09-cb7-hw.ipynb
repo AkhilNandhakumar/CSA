{
 "cells": [
  {
   "cell_type": "markdown",
   "metadata": {},
   "source": [
    "# Unit 7 Homework\n",
    "> Unit 7 Homework\n",
    "\n",
    "- title: Unit 7 Homework\n",
    "- toc: true\n",
    "- badges: true\n",
    "- comments: true\n",
    "- categories: [Unit-7, 2D Array Lists]"
   ]
  },
  {
   "cell_type": "markdown",
   "metadata": {},
   "source": [
    "## Homework:\n",
    "- Sort an ArrayList in descending order and swap the first and last elements\n",
    "- Find and display the hashCode of an Arraylist before and after being sorted\n",
    "- Return \"ascending\" if the list is sorted in ascending order, return \"descending\" if it is descending, and return \"neither\" if neither"
   ]
  },
  {
   "cell_type": "code",
   "execution_count": 4,
   "metadata": {
    "vscode": {
     "languageId": "java"
    }
   },
   "outputs": [
    {
     "name": "stdout",
     "output_type": "stream",
     "text": [
      "HashCode: -1631985086\n",
      "Original: [0, 1, 2, 3, 4, 5, 4, 3, 2, 1]\n",
      "Sorted: [5, 4, 4, 3, 3, 2, 2, 1, 1, 0]\n",
      "HashCode: -287789284\n",
      "Swapped first and last: [3, 4, 4, 3, 5, 2, 2, 1, 1, 0]\n",
      "HashCode: 162496028\n",
      "neither\n"
     ]
    }
   ],
   "source": [
    "ArrayList<Integer> n = new ArrayList<Integer>();\n",
    "\n",
    "boolean a;\n",
    "\n",
    "boolean b;\n",
    "\n",
    "\n",
    "for (int i = 0; i < 5; i++){\n",
    "    n.add(i);\n",
    "}\n",
    "\n",
    "for (int i = 5; i > 0; i--){\n",
    "    n.add(i);\n",
    "}\n",
    "\n",
    "System.out.println(\"HashCode: \" + n.hashCode());\n",
    "System.out.println(\"Original: \" + n);\n",
    "\n",
    "\n",
    "n.sort(Comparator.reverseOrder());\n",
    "System.out.println(\"Sorted: \" + n);\n",
    "System.out.println(\"HashCode: \" + n.hashCode());\n",
    "\n",
    "Collections.swap(n, 4, 0);\n",
    "System.out.println(\"Swapped first and last: \" + n);\n",
    "System.out.println(\"HashCode: \" + n.hashCode());\n",
    "\n",
    "\n",
    "for (int i=0; i < n.size() - 1; i++){\n",
    "    if (!(n.get(i) <= n.get(i + 1))){\n",
    "        boolean a = false;\n",
    "    }\n",
    "    if (!(n.get(i) >= n.get(i + 1))){\n",
    "        boolean b = false;\n",
    "    }\n",
    "}\n",
    "\n",
    "\n",
    "if (a){\n",
    "    System.out.println(\"ascending\");\n",
    "}\n",
    "if (b){\n",
    "    System.out.println(\"descending\");\n",
    "}\n",
    "else{\n",
    "    System.out.println(\"neither\");\n",
    "}"
   ]
  }
 ],
 "metadata": {
  "kernelspec": {
   "display_name": "Java",
   "language": "java",
   "name": "java"
  },
  "language_info": {
   "codemirror_mode": "java",
   "file_extension": ".jshell",
   "mimetype": "text/x-java-source",
   "name": "Java",
   "pygments_lexer": "java",
   "version": "17.0.4.1+1-LTS-2"
  },
  "orig_nbformat": 4,
  "vscode": {
   "interpreter": {
    "hash": "aee8b7b246df8f9039afb4144a1f6fd8d2ca17a180786b69acc140d282b71a49"
   }
  }
 },
 "nbformat": 4,
 "nbformat_minor": 2
}
