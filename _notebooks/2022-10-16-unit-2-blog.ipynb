{
 "cells": [
  {
   "cell_type": "markdown",
   "metadata": {},
   "source": [
    "# Java - Objects\n",
    "> Documenting Learnings using Objects in Java\n",
    "\n",
    "- title: Unit 2 Objects\n",
    "- toc: true\n",
    "- badges: true\n",
    "- comments: true\n",
    "- categories: [Unit-2]"
   ]
  },
  {
   "cell_type": "markdown",
   "metadata": {},
   "source": [
    "temp"
   ]
  },
  {
   "cell_type": "markdown",
   "metadata": {},
   "source": [
    "## Console Based Menu\n",
    "Java imports allow user input and console output to be displayed in Terminal \n",
    "\n",
    "Objects Used\n",
    "- Makes Object from Scanner Class to obtain inputs / menu selection from User\n",
    "- Use System Class, to call static methods System.out.print and System.out.println to output to console\n",
    "- User Math Class, to call static method Math.random() to generate random number\n",
    "\n",
    "Other College Board Topics\n",
    "- A 2D array is used to store COLORS\n",
    "- A Control Structure, Switch, is used to process Menu select to code that performs related action\n",
    "\n",
    "Key PBL Topic\n",
    "- Menu class when instantiated with new Menu() takes over Frontend experience with user.  This is relevant to Draw Lab in this article and how Spring Boot works in Web programming.  Objects are intended to encapsulate Frontend, Backend or experience ...  Web Site control flow, Database CRUD operations, or a Menu in terminal (this example)   "
   ]
  }
 ],
 "metadata": {
  "kernelspec": {
   "display_name": "Java",
   "language": "java",
   "name": "java"
  },
  "language_info": {
   "name": "java",
   "version": "3.10.6"
  },
  "orig_nbformat": 4,
  "vscode": {
   "interpreter": {
    "hash": "aee8b7b246df8f9039afb4144a1f6fd8d2ca17a180786b69acc140d282b71a49"
   }
  }
 },
 "nbformat": 4,
 "nbformat_minor": 2
}
