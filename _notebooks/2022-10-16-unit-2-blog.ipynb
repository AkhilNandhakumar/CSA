{
 "cells": [
  {
   "cell_type": "markdown",
   "metadata": {},
   "source": [
    "# Java - Objects\n",
    "> Documenting Learnings using Objects in Java\n",
    "\n",
    "- title: Unit 2 Objects\n",
    "- toc: true\n",
    "- badges: true\n",
    "- comments: true\n",
    "- categories: [Unit-2]"
   ]
  },
  {
   "cell_type": "markdown",
   "metadata": {},
   "source": [
    "## Objects\n",
    "\n",
    "- Objects are instances of Classes, which are like a template of data (attributes) and functions (methods)\n",
    "- Objects are created and their contents, which are pulled from the class, is used in code\n",
    "- Examples below:"
   ]
  },
  {
   "cell_type": "markdown",
   "metadata": {},
   "source": [
    "### Creating a class with a method"
   ]
  },
  {
   "cell_type": "code",
   "execution_count": 4,
   "metadata": {
    "vscode": {
     "languageId": "java"
    }
   },
   "outputs": [
    {
     "name": "stdout",
     "output_type": "stream",
     "text": [
      "Nadal\n",
      "Federer\n",
      "Djokovic\n"
     ]
    }
   ],
   "source": [
    "public class Tennis { // class creation\n",
    "    \n",
    "    public void printPlayers(){   // simple method\n",
    "        System.out.println(\"Nadal\");\n",
    "        System.out.println(\"Federer\");\n",
    "        System.out.println(\"Djokovic\");\n",
    "    }\n",
    "\n",
    "    public static void main(String[] args){  // main class that runs\n",
    "        Tennis myObject = new Tennis();    // CREATING AN OBJECT FROM TENNIS CLASS\n",
    "        myObject.printPlayers();      // Use dot notation to reference methods/attributes from the class that the object is initialized from\n",
    "    }   \n",
    "\n",
    "}\n",
    "\n",
    "Tennis.main(null);"
   ]
  },
  {
   "cell_type": "markdown",
   "metadata": {},
   "source": [
    "### Inheritance\n",
    "\n",
    "- Extending another Class inherits all of the methods and attributes from that class.\n",
    "- Class being extended is called the super class\n",
    "- Class extending is called subclass"
   ]
  },
  {
   "cell_type": "code",
   "execution_count": 6,
   "metadata": {
    "vscode": {
     "languageId": "java"
    }
   },
   "outputs": [
    {
     "name": "stdout",
     "output_type": "stream",
     "text": [
      "Nadal\n",
      "Federer\n",
      "Djokovic\n"
     ]
    }
   ],
   "source": [
    "public class TennisTwo extends Tennis{  // extending Tennis class\n",
    "    public TennisTwo(){    // TennisTwo now has all of Tennis's methods\n",
    "        super();\n",
    "    }\n",
    "\n",
    "    public static void main(String[] args){  // main class that runs\n",
    "        TennisTwo myObjectTwo = new TennisTwo();    // CREATING AN OBJECT FROM TENNISTWO CLASS\n",
    "        myObjectTwo.printPlayers();      // Use dot notation to reference methods/attributes from the INHERITED class\n",
    "    }\n",
    "}\n",
    "\n",
    "TennisTwo.main(null);"
   ]
  },
  {
   "cell_type": "markdown",
   "metadata": {},
   "source": [
    "## HACK - Console Menu\n",
    "\n",
    "### [Click Here to Go to Hack](https://akhilnandhakumar.github.io/CSA/unit-2/2022/08/31/my-menu-console.html)\n",
    "\n",
    "Objects Used\n",
    "- Makes Object from Scanner Class to obtain inputs / menu selection from User\n",
    "- Use System Class, to call static methods System.out.print and System.out.println to output to console\n",
    "- User Math Class, to call static method Math.random() to generate random number "
   ]
  }
 ],
 "metadata": {
  "kernelspec": {
   "display_name": "Java",
   "language": "java",
   "name": "java"
  },
  "language_info": {
   "codemirror_mode": "java",
   "file_extension": ".jshell",
   "mimetype": "text/x-java-source",
   "name": "Java",
   "pygments_lexer": "java",
   "version": "17.0.4.1+1-LTS-2"
  },
  "orig_nbformat": 4,
  "vscode": {
   "interpreter": {
    "hash": "aee8b7b246df8f9039afb4144a1f6fd8d2ca17a180786b69acc140d282b71a49"
   }
  }
 },
 "nbformat": 4,
 "nbformat_minor": 2
}
