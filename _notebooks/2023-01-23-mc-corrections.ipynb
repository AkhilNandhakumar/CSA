{
 "cells": [
  {
   "attachments": {},
   "cell_type": "markdown",
   "metadata": {},
   "source": [
    "# 66 Question MCQ Corrections\n",
    "> 66 Question MCQ\n",
    "\n",
    "- title: 66 Question MCQ Corrections\n",
    "- toc: true \n",
    "- badges: true\n",
    "- comments: true"
   ]
  },
  {
   "attachments": {},
   "cell_type": "markdown",
   "metadata": {},
   "source": [
    "![](../images/mcq66.png)"
   ]
  },
  {
   "attachments": {},
   "cell_type": "markdown",
   "metadata": {},
   "source": [
    "## Corrections\n",
    "\n",
    "### Question 13\n",
    "- I was confused on this question, and did not realize that the value of (x || y) could be true if x is false and y is true, but since the value of (x || y) && x would evaluate to false in this case, the statement are not equivalent to (x||y)&&x\n",
    "- It should be \"x\", since (x || y) && x evaluates to x, since it is independent of y\n",
    "\n",
    "### Question 30\n",
    "- The correct answer was E, which was 4, I made a silly mistake and didn't write down the iterations of the loop. It should have inserted 3 correctly but failed to insert 4.\n",
    "\n",
    "### Question 36\n",
    "- Common sense error, I geniunely thought that a rock could move even though it was an inanimate object, out of the 3 other object, which were animals or people :("
   ]
  },
  {
   "attachments": {},
   "cell_type": "markdown",
   "metadata": {},
   "source": [
    "## Reflection\n",
    "\n",
    "I understand all of the concepts for each question, and feel good about taking the MC portion of the AP exam. I only missed 3 questions due to silly mistakes or just going too fast. I also think I should spend a bit more time practicing 2D array questions, since they take me the most time to figure out, and I feel like I might be wasting too much time on those questions. Within the given time limit on the AP Exam, I should be able to finish on time, but it is a bit close, which is why I want to work on being a bit more efficient when answering the problems about 2D arrays, and figuring out which code segments evaluate to the same as the original provided."
   ]
  }
 ],
 "metadata": {
  "kernelspec": {
   "display_name": "Java",
   "language": "java",
   "name": "java"
  },
  "language_info": {
   "name": "java"
  },
  "orig_nbformat": 4
 },
 "nbformat": 4,
 "nbformat_minor": 2
}
