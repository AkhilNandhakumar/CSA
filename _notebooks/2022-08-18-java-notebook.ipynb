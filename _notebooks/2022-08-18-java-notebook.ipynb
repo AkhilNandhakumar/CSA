{
 "cells": [
  {
   "cell_type": "markdown",
   "metadata": {},
   "source": [
    "# Java Notebook\n",
    "> Testing Jupyter Java Notebook\n",
    "\n",
    "- toc: false \n",
    "- badges: true\n",
    "- comments: true\n",
    "- categories: [jupyter]\n",
    "- image: images/chart-preview.png\n"
   ]
  },
  {
   "cell_type": "code",
   "execution_count": null,
   "metadata": {
    "vscode": {
     "languageId": "java"
    }
   },
   "outputs": [],
   "source": [
    "// Define Static Method within a Class\n",
    "public class HelloStatic {\n",
    "    // Java standard runtime entry point\n",
    "    public static void main(String[] args) {    \n",
    "        System.out.println(\"Hello World!\");\n",
    "    }\n",
    "}\n",
    "// A method call allows us to execute code that is wrapped in Class\n",
    "HelloStatic.main(null);   // Class prefix allows reference of Static Method"
   ]
  }
 ],
 "metadata": {
  "kernelspec": {
   "display_name": "Python 3.10.6 64-bit",
   "language": "python",
   "name": "python3"
  },
  "language_info": {
   "codemirror_mode": {
    "name": "ipython",
    "version": 3
   },
   "file_extension": ".py",
   "mimetype": "text/x-python",
   "name": "python",
   "nbconvert_exporter": "python",
   "pygments_lexer": "ipython3",
   "version": "3.10.6"
  },
  "orig_nbformat": 4,
  "vscode": {
   "interpreter": {
    "hash": "aee8b7b246df8f9039afb4144a1f6fd8d2ca17a180786b69acc140d282b71a49"
   }
  }
 },
 "nbformat": 4,
 "nbformat_minor": 2
}
