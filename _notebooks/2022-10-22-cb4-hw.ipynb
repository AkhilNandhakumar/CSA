{
 "cells": [
  {
   "cell_type": "markdown",
   "metadata": {},
   "source": [
    "# Unit 4 Homework\n",
    "> Unit 4 Homework\n",
    "\n",
    "- title: Unit 4 Homework\n",
    "- toc: true\n",
    "- badges: true\n",
    "- comments: true\n",
    "- categories: [Unit-4]"
   ]
  },
  {
   "cell_type": "markdown",
   "metadata": {},
   "source": [
    "## Caeser Cipher Hack"
   ]
  },
  {
   "cell_type": "code",
   "execution_count": 55,
   "metadata": {
    "vscode": {
     "languageId": "java"
    }
   },
   "outputs": [
    {
     "name": "stdout",
     "output_type": "stream",
     "text": [
      "dicedjobd\n",
      "codedcodedcode\n",
      "supercalifragilisticexpialidocious\n"
     ]
    }
   ],
   "source": [
    "public class CaesarCipher {\n",
    "\n",
    "    public static String cipher(String message, String[] letters, int n) {\n",
    "        \n",
    "        String newMessage = \"\";\n",
    "\n",
    "        for (int i=0; i<message.length(); i++) {\n",
    "            int index = 0;\n",
    "            for (int j=0; j<letters.length; j++) {\n",
    "                if (message.substring(i, i+1).equals(letters[j])) {\n",
    "                    index = j;\n",
    "                }\n",
    "            }\n",
    "            index += n;\n",
    "            if (index > 25) {\n",
    "                index -= 26;\n",
    "            }\n",
    "            newMessage += letters[index];\n",
    "        }\n",
    "        return newMessage;\n",
    "    }\n",
    "\n",
    "    public static void main(String[] args) {\n",
    "\n",
    "        String[] letters = {\"a\", \"b\", \"c\", \"d\", \"e\", \"f\", \"g\", \"h\", \"i\", \"j\", \"k\", \"l\", \"m\", \"n\", \"o\", \"p\", \"q\", \"r\", \"s\", \"t\", \"u\", \"v\", \"w\", \"x\", \"y\", \"z\"};\n",
    "        String message1 = \"Kfzb gly!\";\n",
    "        String message2 = \"zlab zlab zlab\";\n",
    "        String message3 = \"prmbozxifcoxdfifpqfzbumfxifalzflrp\";\n",
    "\n",
    "        System.out.println(cipher(message1, letters, 3));\n",
    "        System.out.println(cipher(message2, letters, 3));\n",
    "        System.out.println(cipher(message3, letters, 3));\n",
    "    }\n",
    "\n",
    "}\n",
    "\n",
    "CaesarCipher.main(null);"
   ]
  }
 ],
 "metadata": {
  "kernelspec": {
   "display_name": "Java",
   "language": "java",
   "name": "java"
  },
  "language_info": {
   "codemirror_mode": "java",
   "file_extension": ".jshell",
   "mimetype": "text/x-java-source",
   "name": "Java",
   "pygments_lexer": "java",
   "version": "17.0.4.1+1-LTS-2"
  },
  "orig_nbformat": 4
 },
 "nbformat": 4,
 "nbformat_minor": 2
}
