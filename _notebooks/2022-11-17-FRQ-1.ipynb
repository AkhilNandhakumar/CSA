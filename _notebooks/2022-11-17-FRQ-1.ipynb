{
 "cells": [
  {
   "cell_type": "markdown",
   "metadata": {},
   "source": [
    "# FRQ 1 - Control Structures\n",
    "> Control Structures FRQ\n",
    "- title: FRQ 1 - Control Structures\n",
    "- toc: true\n",
    "- categories: [Methods, Control-Structures]\n"
   ]
  },
  {
   "cell_type": "markdown",
   "metadata": {},
   "source": [
    "## Implemented FRQ1 in Spring Project\n",
    "\n",
    "- Completed all methods\n",
    "- used Random generated valued for methods where code was un-implemented\n",
    "- Created API endpoints for each method\n",
    "- [Link to Spring Project]()\n"
   ]
  },
  {
   "cell_type": "markdown",
   "metadata": {},
   "source": [
    "## Complete/Enhance and Methods in APCalendar"
   ]
  },
  {
   "cell_type": "code",
   "execution_count": 1,
   "metadata": {
    "vscode": {
     "languageId": "java"
    }
   },
   "outputs": [
    {
     "name": "stdout",
     "output_type": "stream",
     "text": [
      "\n",
      " \n",
      " firstDayOfYear: 6\n",
      "\n",
      " dayOfYear: 317\n",
      "\n",
      " Testing isLeapYear:\n",
      "\n",
      " isLeapYear 2022: false\n",
      "\n",
      " isLeapYear 2000: true\n",
      "\n",
      " isLeapYear 3000: false\n",
      "\n",
      " numberOfLeapYears: 6\n",
      "\n",
      " dayOfWeek: 0\n"
     ]
    }
   ],
   "source": [
    "public class APCalendar {\n",
    "        \n",
    "    public static boolean isLeapYear(int year) {\n",
    "\n",
    "        if ( (year % 4 == 0) && (year % 100 != 0)){\n",
    "            return true;\n",
    "        }\n",
    "        else if ( year % 400 == 0 ){\n",
    "            return true;\n",
    "        }\n",
    "        else {\n",
    "            return false;\n",
    "        }\n",
    "\n",
    "        }\n",
    "    \n",
    "    public static int numberOfLeapYears(int year1, int year2) {\n",
    "       \n",
    "        int numOfLeapYears = 0; // initialize final count variable\n",
    "        for(int i = year1; i <= year2; i++){ // for loop that starts at the year1 number and goes until year 2 including it\n",
    "            if(isLeapYear(i)){  // if the year is a leap year, add 1 to the count\n",
    "                numOfLeapYears += 1;\n",
    "            }\n",
    "        }\n",
    "        return numOfLeapYears; // return the count\n",
    "\n",
    "        }\n",
    "        \n",
    "    public static int firstDayOfYear(int year) {\n",
    "\n",
    "        return year = (int) Math.floor( Math.random() * 7 );\n",
    "\n",
    "        }\n",
    "\n",
    "\n",
    "    public static int dayOfYear(int month, int day, int year) {\n",
    "        \n",
    "        return (int) (Math.random() * (366 - 1)) + 1;\n",
    "    \n",
    "        }\n",
    "\n",
    "    public static int dayOfWeek(int month, int day, int year) { \n",
    "      \n",
    "        int startDay = firstDayOfYear(year);\n",
    "        int selectedDay = dayOfYear(month, day, year);\n",
    "        int returnDay = (startDay + selectedDay - 1) % 7;\n",
    "        return returnDay;\n",
    "        \n",
    "        }\n",
    "\n",
    "    /** Tester method */\n",
    "    public static void main(String[] args) {\n",
    "       \n",
    "        // Private access modifiers\n",
    "        System.out.println(\"\\n \\n firstDayOfYear: \" + APCalendar.firstDayOfYear(2022));\n",
    "\n",
    "        System.out.println(\"\\n dayOfYear: \" + APCalendar.dayOfYear(1, 1, 2022));\n",
    "\n",
    "        // Public access modifiers\n",
    "        System.out.println(\"\\n Testing isLeapYear:\");\n",
    "\n",
    "        System.out.println(\"\\n isLeapYear 2022: \" + APCalendar.isLeapYear(2022));\n",
    "        System.out.println(\"\\n isLeapYear 2000: \" + APCalendar.isLeapYear(2000));\n",
    "        System.out.println(\"\\n isLeapYear 3000: \" + APCalendar.isLeapYear(3000));\n",
    "\n",
    "\n",
    "        System.out.println(\"\\n numberOfLeapYears: \" + APCalendar.numberOfLeapYears(2000, 2022));\n",
    "\n",
    "        System.out.println(\"\\n dayOfWeek: \" + APCalendar.dayOfWeek(1, 1, 2022));\n",
    "    }\n",
    "\n",
    "}\n",
    "\n",
    "APCalendar.main(null);"
   ]
  },
  {
   "cell_type": "markdown",
   "metadata": {},
   "source": [
    "## Enhance APIs and @RESTController - Work With all POJOs and Methods in APCalendar"
   ]
  },
  {
   "cell_type": "code",
   "execution_count": null,
   "metadata": {
    "vscode": {
     "languageId": "java"
    }
   },
   "outputs": [],
   "source": [
    "@RestController\n",
    "@RequestMapping(\"/api/calendar\")\n",
    "public class CalendarApiController {\n",
    "\n",
    "    /** GET isLeapYear endpoint\n",
    "     * ObjectMapper throws exceptions on bad JSON\n",
    "     *  @throws JsonProcessingException\n",
    "     *  @throws JsonMappingException\n",
    "     */\n",
    "    @GetMapping(\"/isLeapYear/{year}\")\n",
    "    public ResponseEntity<JsonNode> getIsLeapYear(@PathVariable int year) throws JsonMappingException, JsonProcessingException {\n",
    "      // Backend Year Object\n",
    "      Year year_obj = new Year();\n",
    "      year_obj.setYear(year);  // evaluates Leap Year\n",
    "\n",
    "      // Turn Year Object into JSON\n",
    "      ObjectMapper mapper = new ObjectMapper(); \n",
    "      JsonNode json = mapper.readTree(year_obj.isLeapYearToString()); // this requires exception handling\n",
    "\n",
    "      return ResponseEntity.ok(json);  // JSON response, see ExceptionHandlerAdvice for throws\n",
    "    }\n",
    "\n",
    "    @GetMapping(\"/firstDayOfYear/{year}\")\n",
    "    public ResponseEntity<JsonNode> getFirstDayOfYear(@PathVariable int year) throws JsonMappingException, JsonProcessingException {\n",
    "      // Backend Year Object\n",
    "      Year year_obj2 = new Year();\n",
    "      year_obj2.setFirstDayOfYear(year);\n",
    "\n",
    "      // Turn Year Object into JSON\n",
    "      ObjectMapper mapper = new ObjectMapper(); \n",
    "      JsonNode json = mapper.readTree(year_obj2.firstDayOfYearToString()); // this requires exception handling\n",
    "\n",
    "      return ResponseEntity.ok(json);  // JSON response, see ExceptionHandlerAdvice for throws\n",
    "    }\n",
    "\n",
    "    @GetMapping(\"/numberOfLeapYears/{year1}/{year2}\")\n",
    "    public ResponseEntity<JsonNode> getNumberOfLeapYears(@PathVariable(\"year1\") int year1, @PathVariable(\"year2\") int year2) throws JsonMappingException, JsonProcessingException {\n",
    "      // Backend Year Object\n",
    "      Year year_obj3 = new Year();\n",
    "      year_obj3.setNumberOfLeapYears(year1, year2);\n",
    "\n",
    "      // Turn Year Object into JSON\n",
    "      ObjectMapper mapper = new ObjectMapper(); \n",
    "      JsonNode json = mapper.readTree(year_obj3.numberOfLeapYearsToString()); // this requires exception handling\n",
    "\n",
    "      return ResponseEntity.ok(json);  // JSON response, see ExceptionHandlerAdvice for throws\n",
    "    }\n",
    "\n",
    "    @GetMapping(\"/dayOfYear/{month}/{day}/{year}\")\n",
    "    public ResponseEntity<JsonNode> getDayOfYear(@PathVariable(\"month\") int month, @PathVariable(\"day\") int day,  @PathVariable(\"year\") int year) throws JsonMappingException, JsonProcessingException {\n",
    "      // Backend Year Object\n",
    "      Year year_obj4 = new Year();\n",
    "      year_obj4.setDayOfYear(month, day, year);\n",
    "\n",
    "      // Turn Year Object into JSON\n",
    "      ObjectMapper mapper = new ObjectMapper(); \n",
    "      JsonNode json = mapper.readTree(year_obj4.dayOfYearToString()); // this requires exception handling\n",
    "\n",
    "      return ResponseEntity.ok(json);  // JSON response, see ExceptionHandlerAdvice for throws\n",
    "    }\n",
    "    \n",
    "    @GetMapping(\"/dayOfWeek/{month}/{day}/{year}\")\n",
    "    public ResponseEntity<JsonNode> getDayOfWeek(@PathVariable(\"month\") int month, @PathVariable(\"day\") int day,  @PathVariable(\"year\") int year) throws JsonMappingException, JsonProcessingException {\n",
    "      // Backend Year Object\n",
    "      Year year_obj5 = new Year();\n",
    "      year_obj5.setDayOfWeek(month, day, year);\n",
    "\n",
    "      // Turn Year Object into JSON\n",
    "      ObjectMapper mapper = new ObjectMapper(); \n",
    "      JsonNode json = mapper.readTree(year_obj5.dayOfWeekToString()); // this requires exception handling\n",
    "\n",
    "      return ResponseEntity.ok(json);  // JSON response, see ExceptionHandlerAdvice for throws\n",
    "    }\n",
    "}"
   ]
  },
  {
   "cell_type": "markdown",
   "metadata": {},
   "source": [
    "## Creating Getters/Setters/ToString for all Methods"
   ]
  },
  {
   "cell_type": "code",
   "execution_count": null,
   "metadata": {
    "vscode": {
     "languageId": "java"
    }
   },
   "outputs": [],
   "source": [
    "/* firstDayOfYear getter/setters */\n",
    "public int getFirstDayOfYear(int year) {\n",
    "    return APCalendar.firstDayOfYear(year);\n",
    " }\n",
    " public void setFirstDayOfYear(int year) {  // this is private to avoid tampering\n",
    "    this.firstDayOfYear = APCalendar.firstDayOfYear(year);\n",
    " }\n",
    "\n",
    " public String firstDayOfYearToString(){\n",
    "    return ( \"{ \\\"firstDayOfYear\\\": \"  + this.firstDayOfYear + \" }\" );\n",
    " }\t\n",
    "\n",
    " /* numberOfLeapYears getter/setters */\n",
    " public int getNumberOfLeapYears(int year1, int year2) {\n",
    "    return APCalendar.numberOfLeapYears(year1, year2);\n",
    " }\n",
    " public void setNumberOfLeapYears(int year1, int year2) {  // this is private to avoid tampering\n",
    "    this.numberOfLeapYears = APCalendar.numberOfLeapYears(year1, year2);\n",
    " }\n",
    "\n",
    " public String numberOfLeapYearsToString(){\n",
    "    return ( \"{ \\\"numberOfLeapYears\\\": \"  + this.numberOfLeapYears + \" }\" );\n",
    " }\t\n",
    "\n",
    " /* dayOfYear getter/setters */\n",
    " public int dayOfYear(int month, int day, int year) {\n",
    "    return APCalendar.dayOfYear(month, day, year);\n",
    " }\n",
    " public void setDayOfYear(int month, int day, int year) {  // this is private to avoid tampering\n",
    "    this.dayOfYear = APCalendar.dayOfYear(month, day, year);\n",
    " }\n",
    "\n",
    " public String dayOfYearToString(){\n",
    "    return ( \"{ \\\"dayOfYear\\\": \"  + this.dayOfYear + \" }\" );\n",
    " }\t\n",
    "\n",
    " /* dayOfWeek getter/setters */\n",
    " public int dayOfWeek(int month, int day, int year) {\n",
    "    return APCalendar.dayOfWeek(month, day, year);\n",
    " }\n",
    " public void setDayOfWeek(int month, int day, int year) {  // this is private to avoid tampering\n",
    "    this.dayOfWeek = APCalendar.dayOfWeek(month, day, year);\n",
    " }\n",
    "\n",
    " public String dayOfWeekToString(){\n",
    "    return ( \"{ \\\"dayOfWeek\\\": \"  + this.dayOfWeek + \" }\" );\n",
    " }\t"
   ]
  },
  {
   "cell_type": "markdown",
   "metadata": {},
   "source": [
    "## Testing API Using Curl"
   ]
  },
  {
   "cell_type": "markdown",
   "metadata": {},
   "source": [
    "![](../images/curl.png)\n",
    "![](../images/curl1.png)\n",
    "![](../images/curl2.png)"
   ]
  },
  {
   "cell_type": "markdown",
   "metadata": {},
   "source": [
    "## Testing API Using Browser"
   ]
  },
  {
   "cell_type": "markdown",
   "metadata": {},
   "source": [
    "![](../images/browser.png)"
   ]
  },
  {
   "cell_type": "markdown",
   "metadata": {},
   "source": [
    "## Testing API Using Postman"
   ]
  },
  {
   "cell_type": "markdown",
   "metadata": {},
   "source": [
    "![](../images/postman.png)"
   ]
  },
  {
   "cell_type": "markdown",
   "metadata": {},
   "source": [
    "## Using Debugger\n",
    "\n",
    "- Checking each iteration step to make sure numberOfLeapYears algorithm is correct\n",
    "- helped fix for loop count and syntax errors"
   ]
  },
  {
   "cell_type": "markdown",
   "metadata": {},
   "source": [
    "![](../images/debug.png)"
   ]
  }
 ],
 "metadata": {
  "kernelspec": {
   "display_name": "Java",
   "language": "java",
   "name": "java"
  },
  "language_info": {
   "codemirror_mode": "java",
   "file_extension": ".jshell",
   "mimetype": "text/x-java-source",
   "name": "Java",
   "pygments_lexer": "java",
   "version": "17.0.4.1+1-LTS-2"
  },
  "orig_nbformat": 4,
  "vscode": {
   "interpreter": {
    "hash": "aee8b7b246df8f9039afb4144a1f6fd8d2ca17a180786b69acc140d282b71a49"
   }
  }
 },
 "nbformat": 4,
 "nbformat_minor": 2
}
