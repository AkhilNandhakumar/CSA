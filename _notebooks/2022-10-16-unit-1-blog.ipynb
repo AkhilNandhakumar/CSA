{
 "cells": [
  {
   "cell_type": "markdown",
   "metadata": {},
   "source": [
    "# Java - Primitives\n",
    "> Documenting Learnings using Primitives in Java\n",
    "\n",
    "- title: Unit 1 Primitives \n",
    "- toc: true\n",
    "- badges: true\n",
    "- comments: true\n",
    "- categories: [Unit-1]"
   ]
  },
  {
   "cell_type": "markdown",
   "metadata": {},
   "source": [
    "## Primitives\n",
    "- 8 primitive types in Java including: \n",
    "    - int \n",
    "    - byte \n",
    "    - short\n",
    "    - long\n",
    "    - float\n",
    "    - double\n",
    "    - boolean\n",
    "    - char\n",
    "\n",
    "- Integer types have a range from -2147483648 to 2147483647 (**32 bits**)\n",
    "- Byte types have a range from -128 to 127 (**8 bits**)\n",
    "- Short types have a range from -32768 to 32767 (**16 bits**)\n",
    "- Long types have a range from -9223372036854775808 to 9223372036854775807 (**64 bits**)\n",
    "- Floats are used for decimal approximations have a **32 bit** range\n",
    "- Doubles are used for decimal approximations and have a **64 bit** range\n",
    "- Char type is singular character\n",
    "\n",
    "## Explicit Initialization:\n",
    "- In Java, when a variable is created, it must be explicitly declared by the type of data it holds\n",
    "- Using an \"=\" assigns values to the variable\n",
    "- Examples below:"
   ]
  },
  {
   "cell_type": "code",
   "execution_count": 1,
   "metadata": {
    "vscode": {
     "languageId": "java"
    }
   },
   "outputs": [
    {
     "name": "stdout",
     "output_type": "stream",
     "text": [
      "age: 14\n",
      "letter: h\n"
     ]
    }
   ],
   "source": [
    "public class Example{\n",
    "    static public void main(String[] args){\n",
    "        \n",
    "        int age; // declares the age variable as an integer\n",
    "        char letter; // declares the letter variable as a character\n",
    "        age = 14;\n",
    "        letter = 'h';\n",
    "\n",
    "        System.out.println(\"age: \" + age);\n",
    "        System.out.println(\"letter: \" + letter);\n",
    "    }\n",
    "}\n",
    "Example.main(null);"
   ]
  },
  {
   "cell_type": "markdown",
   "metadata": {},
   "source": [
    "## Hack - Calculator using Primitives\n",
    "> Un-weighted GPA calculator"
   ]
  },
  {
   "cell_type": "markdown",
   "metadata": {},
   "source": [
    "### Details:"
   ]
  },
  {
   "cell_type": "markdown",
   "metadata": {},
   "source": [
    "- Uses doubles and int to store data about each grade's weight and percentages\n",
    "- Uses String (wrapper), which is an object, to hold character information for letter grade input"
   ]
  },
  {
   "cell_type": "code",
   "execution_count": 2,
   "metadata": {
    "vscode": {
     "languageId": "java"
    }
   },
   "outputs": [
    {
     "name": "stdout",
     "output_type": "stream",
     "text": [
      "Number of classes you are taking this trimester: \n",
      "What is your Grade in Period 1? ---> A\n",
      "What is your Grade in Period 2? ---> B\n",
      "What is your Grade in Period 3? ---> A\n",
      "What is your Grade in Period 4? ---> C\n",
      "What is your Grade in Period 5? ---> C\n",
      "Your Un-weighted GPA is:3.0\n"
     ]
    }
   ],
   "source": [
    "public class GPACalculator {\n",
    "\n",
    "    public static void main(String[] args) {  \n",
    "        \n",
    "        Scanner input = new Scanner(System.in);   \n",
    "        \n",
    "        String letterGrades = \"\";\n",
    "        double weight;\n",
    "        double sum = 0.00;\n",
    "        int num = 1;\n",
    "        double classes = 0;\n",
    "        \n",
    "        System.out.print(\"Number of classes you are taking this trimester: \\n\");\n",
    "        \n",
    "        classes = input.nextInt();\n",
    "     \n",
    "        for (int i = 0; i < classes; i++) {\n",
    "        \n",
    "            Scanner input2 = new Scanner(System.in);\n",
    "            System.out.print(\"What is your Grade in Period \" + num + \"? ---> \");\n",
    "            letterGrades = input2.nextLine();\n",
    "            System.out.print(letterGrades + \"\\n\");\n",
    "            \n",
    "    \n",
    "            if (letterGrades.equals(\"A\")){\n",
    "            weight = 4.00; \n",
    "            sum += weight;\n",
    "    \n",
    "        } else if (letterGrades.equals(\"B\")){\n",
    "            weight = 3.00;\n",
    "            sum += weight;\n",
    "    \n",
    "        } else if (letterGrades.equals(\"C\")){\n",
    "            weight = 2.00;\n",
    "            sum += weight;\n",
    "    \n",
    "        } else if (letterGrades.equals(\"D\")){\n",
    "            weight = 1.00;\n",
    "            sum += weight;\n",
    "    \n",
    "        } else if (letterGrades.equals(\"F\")){\n",
    "            weight = 0.00;\n",
    "            sum += weight;\n",
    "    \n",
    "        }\n",
    "\n",
    "        num = num + 1;\n",
    "    \n",
    "        }\n",
    "    \n",
    "        double GPA = sum / classes;\n",
    "        System.out.println(\"Your Un-weighted GPA is:\" + GPA);\n",
    "    }\n",
    "\n",
    "}\n",
    "\n",
    "GPACalculator.main(null);"
   ]
  }
 ],
 "metadata": {
  "kernelspec": {
   "display_name": "Java",
   "language": "java",
   "name": "java"
  },
  "language_info": {
   "codemirror_mode": "java",
   "file_extension": ".jshell",
   "mimetype": "text/x-java-source",
   "name": "Java",
   "pygments_lexer": "java",
   "version": "17.0.4.1+1-LTS-2"
  },
  "orig_nbformat": 4,
  "vscode": {
   "interpreter": {
    "hash": "aee8b7b246df8f9039afb4144a1f6fd8d2ca17a180786b69acc140d282b71a49"
   }
  }
 },
 "nbformat": 4,
 "nbformat_minor": 2
}
