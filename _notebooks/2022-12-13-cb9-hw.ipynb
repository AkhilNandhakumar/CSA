{
 "cells": [
  {
   "cell_type": "markdown",
   "metadata": {},
   "source": [
    "# Unit 9 Homework\n",
    "> Unit 9 Homework\n",
    "\n",
    "- title: Unit 9 Homework\n",
    "- toc: true\n",
    "- badges: true\n",
    "- comments: true\n",
    "- categories: [Unit-9, Classes, Super, Inheritance]"
   ]
  },
  {
   "cell_type": "markdown",
   "metadata": {},
   "source": [
    "## Homework:"
   ]
  },
  {
   "cell_type": "code",
   "execution_count": 15,
   "metadata": {
    "vscode": {
     "languageId": "java"
    }
   },
   "outputs": [
    {
     "name": "stdout",
     "output_type": "stream",
     "text": [
      "Team 1: Argentina\n",
      "Team 2: Null\n",
      "Team Colors: Blue and White\n",
      "Team 1: Portugal\n",
      "Team 2: Null\n",
      "Team Colors: Green and Red\n"
     ]
    }
   ],
   "source": [
    "public class WorldCup {\n",
    "    public String team1;\n",
    "    public String team2;\n",
    "    public String color;\n",
    "    \n",
    "    public WorldCup (String team1, String team2, String color){\n",
    "        this.team1 = team1;\n",
    "        this.team2 = team2;\n",
    "        this.color = color;\n",
    "    }\n",
    "\n",
    "    public String getTeam1(){\n",
    "        return team1;\n",
    "    }\n",
    "\n",
    "    public String getTeam2(){\n",
    "        return team2;\n",
    "    }\n",
    "\n",
    "    public void main(String[] args) {\n",
    "        System.out.println(\"Team 1: \" + this.team1);\n",
    "        System.out.println(\"Team 2: \" + this.team2);\n",
    "        System.out.println(\"Team Colors: \" + this.color);\n",
    "    }\n",
    "}\n",
    "\n",
    "public class Argentina extends WorldCup {\n",
    "\n",
    "    public Argentina(String team1, String team2, String color){\n",
    "        super(team1, team2, color);\n",
    "    }\n",
    "}\n",
    "\n",
    "public class Portugal extends WorldCup {\n",
    "\n",
    "    public Portugal(String team1, String team2, String color){\n",
    "        super(team1, team2, color);\n",
    "    }\n",
    "}\n",
    "\n",
    "Argentina arg = new Argentina(\"Argentina\", \"Null\", \"Blue and White\");\n",
    "Portugal por = new Portugal(\"Portugal\", \"Null\", \"Green and Red\");\n",
    "\n",
    "arg.main(null);\n",
    "por.main(null);"
   ]
  },
  {
   "cell_type": "markdown",
   "metadata": {},
   "source": [
    "### Inheritance (To do)\n",
    "- Add a getAge method in the Person super class\n",
    "- Create a new subclass Student with additional members of your choice to personalize the Student class\n",
    "- Create a new subclass Teacher with additional members of your choice\n",
    "- Override the toString method using the @Override to print a Student and teacher object with new members\n",
    "- Print the student and teacher."
   ]
  },
  {
   "cell_type": "code",
   "execution_count": 24,
   "metadata": {
    "vscode": {
     "languageId": "java"
    }
   },
   "outputs": [
    {
     "name": "stdout",
     "output_type": "stream",
     "text": [
      "Student to String: Akhil, 11/01/2004, gpa: 4.0\n",
      "Teacher to String: Mr. Mort, 01/01/1920\n"
     ]
    }
   ],
   "source": [
    "import java.util.Date;\n",
    "import java.text.SimpleDateFormat;\n",
    "import java.time.LocalDate;\n",
    "import java.time.Period;\n",
    "import java.time.ZoneId;\n",
    "\n",
    "public class Person {\n",
    "   public String name;\n",
    "   public String birthday;\n",
    "\n",
    "   public Person (String name, String birthday){\n",
    "      this.name = name;\n",
    "      this.birthday = birthday;\n",
    "   }\n",
    "\n",
    "   public String getName(){\n",
    "      return name;\n",
    "   }\n",
    "\n",
    "   public int getAge(){\n",
    "    //LocalDate birthDay = this.birthday.toInstant().atZone(ZoneId.systemDefault()).toLocalDate();\n",
    "    //return Period.between(birthDay, LocalDate.now()).getYears();\n",
    "    return -1;\n",
    "   }\n",
    "\n",
    " }\n",
    " \n",
    "public class Student extends Person {\n",
    "   private int grade;\n",
    "   private double gpa;\n",
    "\n",
    "   public Student (String name, String birthday, int grade, double gpa) {\n",
    "      super(name, birthday);\n",
    "      this.grade = grade;\n",
    "      this.gpa = gpa;\n",
    "   }\n",
    "\n",
    "   public int getGrade(){\n",
    "      return grade;\n",
    "   }\n",
    "\n",
    "   @Override\n",
    "   public String toString(){\n",
    "      return \"Student to String: \" + name + \", \" + birthday + \", gpa: \" + gpa ;\n",
    "   }\n",
    "}\n",
    "\n",
    "public class Teacher extends Person {\n",
    "   private String subject;\n",
    "\n",
    "   public Teacher (String name, String birthday){\n",
    "      super(name, birthday);\n",
    "   }\n",
    "\n",
    "   @Override\n",
    "   public String toString(){\n",
    "      return \"Teacher to String: \" + name + \", \" + birthday;\n",
    "   }\n",
    "}\n",
    "\n",
    "public class Main{\n",
    "   public static void main(String[] args){\n",
    "      Student akhil = new Student(\"Akhil\", \"11/01/2004\", 12, 4.0);\n",
    "      System.out.println(akhil.toString());\n",
    "      \n",
    "      Teacher mortensen = new Teacher(\"Mr. Mort\", \"01/01/1920\");\n",
    "      System.out.println(mortensen.toString());\n",
    "   }\n",
    "}\n",
    "\n",
    "Main.main(null);"
   ]
  }
 ],
 "metadata": {
  "kernelspec": {
   "display_name": "Java",
   "language": "java",
   "name": "java"
  },
  "language_info": {
   "codemirror_mode": "java",
   "file_extension": ".jshell",
   "mimetype": "text/x-java-source",
   "name": "Java",
   "pygments_lexer": "java",
   "version": "17.0.4.1+1-LTS-2"
  },
  "orig_nbformat": 4
 },
 "nbformat": 4,
 "nbformat_minor": 2
}
