{
 "cells": [
  {
   "cell_type": "markdown",
   "metadata": {},
   "source": [
    "# ArrayLists and Lists\n",
    "> Methods for ArrayLists and Lists\n",
    "- title: ArrayLists and Lists\n",
    "- toc: true\n",
    "- badges: false\n",
    "- permalink: /lists"
   ]
  },
  {
   "cell_type": "code",
   "execution_count": 52,
   "metadata": {
    "vscode": {
     "languageId": "java"
    }
   },
   "outputs": [
    {
     "name": "stdout",
     "output_type": "stream",
     "text": [
      "List 1 add() without index:\n",
      "[Akhil, Nakul]\n",
      "\n",
      "List 1 add() harsha at index 0, and nakul at index 2:\n",
      "[Nathan, Akhil, Rebecca, Nakul]\n",
      "\n",
      "Size of list 1:\n",
      "4\n",
      "\n",
      "addAll() adding without index:\n",
      "[Nathan, Akhil, Rebecca, Nakul, Federer, Nadal, Alcaraz]\n",
      "\n",
      "addAll() adding at index 2:\n",
      "[Nathan, Akhil, Federer, Nadal, Alcaraz, Rebecca, Nakul]\n",
      "\n",
      "remove() at index 6:\n",
      "[Nathan, Akhil, Federer, Nadal, Alcaraz, Rebecca]\n",
      "\n",
      "Cleared ArrayList:\n",
      "[]\n",
      "\n"
     ]
    }
   ],
   "source": [
    "import java.util.ArrayList;\n",
    "\n",
    "public class Main {\n",
    "\n",
    "  public static void main(String[] args) {\n",
    "   \n",
    "    // Creating 2 arraylists\n",
    "    ArrayList<String> notPro = new ArrayList<String>();\n",
    "    ArrayList<String> Pro = new ArrayList<String>();\n",
    "\n",
    "    // Adding without index\n",
    "    notPro.add(\"Akhil\");\n",
    "    notPro.add(\"Nakul\");\n",
    "    System.out.println(\"List 1 add() without index:\" + \"\\n\" + notPro + \"\\n\");\n",
    "\n",
    "    // list 1 adding with index\n",
    "    notPro.add(0, \"Nathan\");\n",
    "    notPro.add(2, \"Rebecca\");\n",
    "    System.out.println(\"List 1 add() harsha at index 0, and nakul at index 2:\" + \"\\n\" + notPro + \"\\n\");\n",
    "\n",
    "    // size()\n",
    "    System.out.println(\"Size of list 1:\" + \"\\n\" + notPro.size() + \"\\n\");\n",
    "\n",
    "    // Adding list 2 to list 1 using addAll()\n",
    "    Pro.add(\"Federer\");\n",
    "    Pro.add(\"Nadal\");\n",
    "    Pro.add(\"Alcaraz\");\n",
    "\n",
    "    notPro.addAll(Pro);\n",
    "    System.out.println(\"addAll() adding without index:\" + \"\\n\" + notPro + \"\\n\");\n",
    "\n",
    "\n",
    "    // Adding list 2 to list 1 with index\n",
    "    notPro.clear();\n",
    "    notPro.add(\"Akhil\");\n",
    "    notPro.add(\"Nakul\");\n",
    "    notPro.add(0, \"Nathan\");\n",
    "    notPro.add(2, \"Rebecca\");\n",
    "\n",
    "    notPro.addAll(2, Pro);\n",
    "    System.out.println(\"addAll() adding at index 2:\" + \"\\n\" + notPro + \"\\n\");\n",
    "\n",
    "    // remove(int index\n",
    "    notPro.remove(6);\n",
    "    System.out.println(\"remove() at index 6:\" + \"\\n\" + notPro + \"\\n\");\n",
    "\n",
    "    \n",
    "    // clear()\n",
    "    notPro.clear();\n",
    "    System.out.println(\"Cleared ArrayList:\" + \"\\n\" + notPro + \"\\n\");\n",
    "\n",
    "  }\n",
    "\n",
    "}\n",
    "\n",
    "Main.main(null);"
   ]
  },
  {
   "cell_type": "code",
   "execution_count": null,
   "metadata": {
    "vscode": {
     "languageId": "java"
    }
   },
   "outputs": [],
   "source": []
  }
 ],
 "metadata": {
  "kernelspec": {
   "display_name": "Java",
   "language": "java",
   "name": "java"
  },
  "language_info": {
   "codemirror_mode": "java",
   "file_extension": ".jshell",
   "mimetype": "text/x-java-source",
   "name": "Java",
   "pygments_lexer": "java",
   "version": "17.0.4.1+1-LTS-2"
  },
  "orig_nbformat": 4,
  "vscode": {
   "interpreter": {
    "hash": "aee8b7b246df8f9039afb4144a1f6fd8d2ca17a180786b69acc140d282b71a49"
   }
  }
 },
 "nbformat": 4,
 "nbformat_minor": 2
}
