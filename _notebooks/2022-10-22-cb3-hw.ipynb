{
 "cells": [
  {
   "cell_type": "markdown",
   "metadata": {},
   "source": [
    "# Unit 3 Homework\n",
    "> Unit 3 Homework\n",
    "\n",
    "- title: Unit 3 Homework\n",
    "- toc: true\n",
    "- badges: true\n",
    "- comments: true\n",
    "- categories: [Unit-3]"
   ]
  },
  {
   "cell_type": "markdown",
   "metadata": {},
   "source": [
    "## FRQ 1 - 2019 Exam\n",
    "\n",
    "1. The APCalendar class contains methods used to calculate information about a calendar. You will write two methods of the class.\n",
    "#### (A) \n",
    "- Write the static method numberOfLeapYears, which returns the number of leap years between year1 and year2, inclusive. In order to calculate this value, a helper method is provided for you.\n",
    "- isLeapYear(year) returns true if year is a leap year and false otherwise.\n",
    "- Complete method numberOfLeapYears below. You must use isLeapYear appropriately to receive full credit."
   ]
  },
  {
   "cell_type": "code",
   "execution_count": null,
   "metadata": {},
   "outputs": [],
   "source": [
    "public static int numberOfLeapYears(int year1, int year2){\n",
    "    int numOfLeapYears = 0; // initialize final count variable\n",
    "    for(int i = year1; i <= year2; i++){ // for loop that starts at the year1 number and goes until year 2 including it\n",
    "        if(isLeapYear(i)){  // if the year is a leap year, add 1 to the count\n",
    "            numOfLeapYears += 1;\n",
    "        }\n",
    "    }\n",
    "    return numOfLeapYears; // return the count\n",
    "}"
   ]
  },
  {
   "cell_type": "markdown",
   "metadata": {},
   "source": [
    "### Scoring (5/5)\n",
    "\n",
    "- Initialize numeric variable (count) 1/1\n",
    "- Loop through each necessary year in range (for loop, with condition in code block) 1/1\n",
    "- Calls isLeapYear on valid year in range 1/1\n",
    "- Update count based on result of isLeapYear 1/1\n",
    "- Return count of leap years 1/1"
   ]
  },
  {
   "cell_type": "markdown",
   "metadata": {},
   "source": [
    "#### (B) \n",
    "- Write the static method dayOfWeek, which returns the integer value representing the day of the week for the given date (month, day, year), where 0 denotes Sunday, 1 denotes Monday, ..., and 6 denotes Saturday.\n",
    "- For example, 2019 began on a Tuesday, and January 5 is the fifth day of 2019. As a result, January 5, 2019, fell on a Saturday, and the method call dayOfWeek(1, 5, 2019) returns 6. "
   ]
  },
  {
   "cell_type": "code",
   "execution_count": null,
   "metadata": {},
   "outputs": [],
   "source": [
    "public static int dayOfWeek(int month, int day, int year){\n",
    "    int date = dayOfYear(month, day, year); // gets current day number\n",
    "    int first = firstDayofYear(year); // gets starting day of year\n",
    "    int calculated = ((week + start)-1) % 7; // adds starting and current and subtracts one to account for the offset, and divides by 7. remainder determines the day of week\n",
    "    return calculated;\n",
    "}"
   ]
  },
  {
   "cell_type": "markdown",
   "metadata": {},
   "source": [
    "### Scoring (4/4)\n",
    "\n",
    "- Call firstDayofYear 1/1\n",
    "- Calls dayOfYear 1/1\n",
    "- Calculate value representing day of week (-1, incorrect calculation) 1/1\n",
    "- Return calculated value 1/1"
   ]
  }
 ],
 "metadata": {
  "kernelspec": {
   "display_name": "Java",
   "language": "java",
   "name": "java"
  },
  "language_info": {
   "name": "java",
   "version": "3.10.6"
  },
  "orig_nbformat": 4,
  "vscode": {
   "interpreter": {
    "hash": "aee8b7b246df8f9039afb4144a1f6fd8d2ca17a180786b69acc140d282b71a49"
   }
  }
 },
 "nbformat": 4,
 "nbformat_minor": 2
}
