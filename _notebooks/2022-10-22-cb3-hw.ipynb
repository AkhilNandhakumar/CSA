{
 "cells": [
  {
   "cell_type": "markdown",
   "metadata": {},
   "source": [
    "# Unit 3 Homework\n",
    "> Unit 3 Homework\n",
    "\n",
    "- title: Unit 3 Homework\n",
    "- toc: true\n",
    "- badges: true\n",
    "- comments: true\n",
    "- categories: [Unit-3]"
   ]
  },
  {
   "cell_type": "markdown",
   "metadata": {},
   "source": [
    "## FRQ 1 - 2019 Exam\n",
    "\n",
    "1. The APCalendar class contains methods used to calculate information about a calendar. You will write two methods of the class.\n",
    "#### (A) \n",
    "- Write the static method numberOfLeapYears, which returns the number of leap years between year1 and year2, inclusive. In order to calculate this value, a helper method is provided for you.\n",
    "- isLeapYear(year) returns true if year is a leap year and false otherwise.\n",
    "- Complete method numberOfLeapYears below. You must use isLeapYear appropriately to receive full credit."
   ]
  },
  {
   "cell_type": "code",
   "execution_count": null,
   "metadata": {},
   "outputs": [],
   "source": [
    "public static int numberOfLeapYears(int year1, int year2){\n",
    "    int numOfLeapYears = 0; // initialize final count variable\n",
    "    for(int i = year1; i <= year2; i++){ // for loop that starts at the year1 number and goes until year 2 including it\n",
    "        if(isLeapYear(i)){  // if the year is a leap year, add 1 to the count\n",
    "            numOfLeapYears += 1;\n",
    "        }\n",
    "    }\n",
    "    return numOfLeapYears; // return the count\n",
    "}"
   ]
  },
  {
   "cell_type": "markdown",
   "metadata": {},
   "source": [
    "### Scoring (5/5)\n",
    "\n",
    "- Initialize numeric variable (count) 1/1\n",
    "- Loop through each necessary year in range (for loop, with condition in code block) 1/1\n",
    "- Calls isLeapYear on valid year in range 1/1\n",
    "- Update count based on result of isLeapYear 1/1\n",
    "- Return count of leap years 1/1"
   ]
  },
  {
   "cell_type": "markdown",
   "metadata": {},
   "source": [
    "#### (B) \n",
    "- Write the static method dayOfWeek, which returns the integer value representing the day of the week for the given date (month, day, year), where 0 denotes Sunday, 1 denotes Monday, ..., and 6 denotes Saturday.\n",
    "- For example, 2019 began on a Tuesday, and January 5 is the fifth day of 2019. As a result, January 5, 2019, fell on a Saturday, and the method call dayOfWeek(1, 5, 2019) returns 6. "
   ]
  },
  {
   "cell_type": "code",
   "execution_count": null,
   "metadata": {},
   "outputs": [],
   "source": [
    "public static int dayOfWeek(int month, int day, int year){\n",
    "    int date = dayOfYear(month, day, year); // gets current day number\n",
    "    int first = firstDayofYear(year); // gets starting day of year\n",
    "    int calculated = ((week + start)-1) % 7; // adds starting and current and subtracts one to account for the offset, and divides by 7. remainder determines the day of week\n",
    "    return calculated;\n",
    "}"
   ]
  },
  {
   "cell_type": "markdown",
   "metadata": {},
   "source": [
    "### Scoring (4/4)\n",
    "\n",
    "- Call firstDayofYear 1/1\n",
    "- Calls dayOfYear 1/1\n",
    "- Calculate value representing day of week (-1, incorrect calculation) 1/1\n",
    "- Return calculated value 1/1"
   ]
  },
  {
   "cell_type": "markdown",
   "metadata": {},
   "source": [
    "## Excercises 1-20 Even Only"
   ]
  },
  {
   "cell_type": "markdown",
   "metadata": {},
   "source": [
    "## Problem 2"
   ]
  },
  {
   "cell_type": "code",
   "execution_count": 4,
   "metadata": {},
   "outputs": [
    {
     "name": "stdout",
     "output_type": "stream",
     "text": [
      "coeff a: \n",
      "coeff b: \n",
      "coeff c: \n",
      "The roots are -139.625 and 109.625\n"
     ]
    }
   ],
   "source": [
    "import java.util.Scanner;\n",
    "public class Prob2 {\n",
    "\n",
    "    public static void main(String[] args) {\n",
    "        Scanner input = new Scanner(System.in);\n",
    "        System.out.println(\"coeff a: \");\n",
    "        double a = input.nextDouble();\n",
    "        System.out.println(\"coeff b: \");\n",
    "        double b = input.nextDouble();\n",
    "        System.out.println(\"coeff c: \");\n",
    "        double c = input.nextDouble();\n",
    "\n",
    "        double root1 = (-b + (b * b - 4 * a * c)/(2*a));\n",
    "        double root2 = (-b - (b * b - 4 * a * c)/(2*a));\n",
    "        System.out.println(\"The roots are \" + root1 + \" and \" + root2);\n",
    "        }\n",
    "    }\n",
    "\n",
    "Prob2.main(null);"
   ]
  },
  {
   "cell_type": "markdown",
   "metadata": {},
   "source": [
    "## Problem 4"
   ]
  },
  {
   "cell_type": "code",
   "execution_count": 9,
   "metadata": {},
   "outputs": [
    {
     "name": "stdout",
     "output_type": "stream",
     "text": [
      "num: 1356.0\n",
      "pos\n"
     ]
    }
   ],
   "source": [
    "public class Prob4 {\n",
    "\n",
    "    public static void main(String[] args) {\n",
    "        Scanner input = new Scanner(System.in);\n",
    "\n",
    "        System.out.print(\"num: \");\n",
    "        double number = input.nextDouble();\n",
    "        System.out.println(number);\n",
    "\n",
    "        if (number > 0) {\n",
    "            System.out.println(\"pos\");\n",
    "        } else if (number == 0) {\n",
    "            System.out.println(\"zero\");\n",
    "        } else {\n",
    "            System.out.println(\"neg\");\n",
    "        }\n",
    "\n",
    "        if (number < 1) {\n",
    "            System.out.println(\"neg\");\n",
    "        } else if (number > 1000000) {\n",
    "            System.out.println(\"too big \");\n",
    "        }\n",
    "\n",
    "    }\n",
    "}\n",
    "\n",
    "Prob4.main(null);"
   ]
  },
  {
   "cell_type": "markdown",
   "metadata": {},
   "source": [
    "## Problem 6"
   ]
  },
  {
   "cell_type": "code",
   "execution_count": 11,
   "metadata": {},
   "outputs": [
    {
     "name": "stdout",
     "output_type": "stream",
     "text": [
      "num 1: 125.6667765\n",
      "num 2: 125.6660940951\n",
      "true\n"
     ]
    }
   ],
   "source": [
    "public class Prob6 {\n",
    "\n",
    "    static double truncate(double n, int decimalPlace) {\n",
    "        n = n*Math.pow(10, decimalPlace);\n",
    "        n = Math.floor(n);\n",
    "        n = n/Math.pow(10, decimalPlace);\n",
    "\n",
    "        return n;\n",
    "    }\n",
    "\n",
    "    public static void main(String[] args) {\n",
    "        Scanner input = new Scanner(System.in);\n",
    "\n",
    "        System.out.print(\"num 1: \");\n",
    "        double number1 = input.nextDouble();\n",
    "        double num1Trun = truncate(number1, 3);\n",
    "        System.out.println(number1);\n",
    "\n",
    "        System.out.print(\"num 2: \");\n",
    "        double number2 = input.nextDouble();\n",
    "        double num2Trun = truncate(number2, 3);\n",
    "        System.out.println(number2);\n",
    "\n",
    "        if (num1Trun == num2Trun) {\n",
    "            System.out.println(\"true\");\n",
    "        } else {\n",
    "            System.out.println(\"false\");\n",
    "        }\n",
    "    }\n",
    "}\n",
    "\n",
    "Prob6.main(null);"
   ]
  },
  {
   "cell_type": "markdown",
   "metadata": {},
   "source": [
    "## Problem 8"
   ]
  },
  {
   "cell_type": "code",
   "execution_count": 17,
   "metadata": {},
   "outputs": [
    {
     "name": "stdout",
     "output_type": "stream",
     "text": [
      "enter letter: e\n",
      "vowel\n"
     ]
    }
   ],
   "source": [
    "public class Prob8 {\n",
    "\n",
    "    \n",
    "    public static void main(String[] args) {\n",
    "        Scanner input = new Scanner(System.in);\n",
    "\n",
    "        System.out.print(\"enter letter: \");\n",
    "        String letter = input.nextLine();\n",
    "        System.out.println(letter);\n",
    "\n",
    "        String[] vowels = {\"a\", \"e\", \"i\", \"o\", \"u\", \"A\", \"E\", \"I\", \"O\", \"U\"};\n",
    "\n",
    "        if(letter.length() > 1) {\n",
    "            System.out.println(\"not one letter\");\n",
    "        } else if (!letter.matches(\"[a-zA-Z]+\")) {\n",
    "            System.out.println(\"not a letter\");\n",
    "        } else if (vowels.contains(letter)) {\n",
    "            System.out.println(\"vowel\");\n",
    "        } else {\n",
    "            System.out.println(\"consonant\");\n",
    "        }\n",
    "\n",
    "\n",
    "        input.close();\n",
    "\n",
    "        \n",
    "    }\n",
    "}\n",
    "\n",
    "Prob8.main(null);"
   ]
  },
  {
   "cell_type": "markdown",
   "metadata": {},
   "source": [
    "## Problem 10"
   ]
  },
  {
   "cell_type": "code",
   "execution_count": 22,
   "metadata": {},
   "outputs": [
    {
     "name": "stdout",
     "output_type": "stream",
     "text": [
      "1\n",
      "2\n",
      "3\n",
      "4\n",
      "5\n",
      "6\n",
      "7\n",
      "8\n",
      "9\n",
      "10\n"
     ]
    }
   ],
   "source": [
    "public class Prob10 {\n",
    "\n",
    "    public static void main(String[] args) {\n",
    "\n",
    "    int[] n = {1, 2, 3, 4, 5, 6, 7, 8, 9, 10};\n",
    "        for (int num : n) {\n",
    "            System.out.println(num);\n",
    "        }\n",
    "    }\n",
    "}\n",
    "\n",
    "Prob10.main(null);"
   ]
  },
  {
   "cell_type": "markdown",
   "metadata": {},
   "source": [
    "## Problem 12"
   ]
  },
  {
   "cell_type": "code",
   "execution_count": 28,
   "metadata": {},
   "outputs": [
    {
     "name": "stdout",
     "output_type": "stream",
     "text": [
      "Input nums:\n",
      "9248357\n",
      "934867\n",
      "1342345\n",
      "257\n",
      "4\n",
      "sum: 11525830\n",
      "avg: 2305166.0\n"
     ]
    }
   ],
   "source": [
    "public class Prob12 {\n",
    "\n",
    "    \n",
    "    public static void main(String[] args) {\n",
    "        int sum = 0;\n",
    "        double average;\n",
    "\n",
    "        System.out.println(\"Input nums:\");\n",
    "        Scanner input = new Scanner(System.in);\n",
    "        for (int i = 0; i < 5; i++) {\n",
    "            int num = input.nextInt();\n",
    "            System.out.println(num);\n",
    "            sum += num;\n",
    "        }\n",
    "        average = sum/5;\n",
    "\n",
    "        System.out.println(\"sum: \" + sum);\n",
    "        System.out.println(\"avg: \" + average);\n",
    "        \n",
    "    }\n",
    "}\n",
    "\n",
    "Prob12.main(null);"
   ]
  },
  {
   "cell_type": "markdown",
   "metadata": {},
   "source": [
    "## Problem 14"
   ]
  },
  {
   "cell_type": "code",
   "execution_count": 29,
   "metadata": {},
   "outputs": [
    {
     "name": "stdout",
     "output_type": "stream",
     "text": [
      "num: \n",
      "terms: \n",
      "4 x 0 = 0\n",
      "4 x 1 = 4\n",
      "4 x 2 = 8\n",
      "4 x 3 = 12\n",
      "4 x 4 = 16\n",
      "4 x 5 = 20\n",
      "4 x 6 = 24\n",
      "4 x 7 = 28\n"
     ]
    }
   ],
   "source": [
    "public class Prob14 {\n",
    "\n",
    "    public static void main(String[] args) {\n",
    "\n",
    "        System.out.println(\"num: \");\n",
    "        Scanner input = new Scanner(System.in);\n",
    "        int num = input.nextInt();\n",
    "\n",
    "        System.out.println(\"terms: \");\n",
    "        int terms = input.nextInt();\n",
    "\n",
    "        for (int i = 0; i <= terms; i++) {\n",
    "            System.out.println(num + \" x \" + i + \" = \" + num*i);\n",
    "        }        \n",
    "    }\n",
    "}\n",
    "\n",
    "Prob14.main(null);"
   ]
  },
  {
   "cell_type": "markdown",
   "metadata": {},
   "source": [
    "## Problem 16"
   ]
  },
  {
   "cell_type": "code",
   "execution_count": 31,
   "metadata": {},
   "outputs": [
    {
     "name": "stdout",
     "output_type": "stream",
     "text": [
      "rows: 6\n",
      "1\n",
      "12\n",
      "123\n",
      "1234\n",
      "12345\n",
      "123456\n"
     ]
    }
   ],
   "source": [
    "public class Prob16 {\n",
    "\n",
    "    public static void main(String[] args) {\n",
    "        \n",
    "        System.out.print(\"rows: \");\n",
    "        Scanner input = new Scanner(System.in);\n",
    "        int num = input.nextInt();\n",
    "        System.out.println(num);\n",
    "\n",
    "        for (int i = 1; i <= num; i++) {\n",
    "            for (int j = 1; j <= i; j++) {\n",
    "                System.out.print(j);\n",
    "            }\n",
    "            System.out.println();\n",
    "        }\n",
    "    }\n",
    "}\n",
    "\n",
    "Prob16.main(null);"
   ]
  },
  {
   "cell_type": "markdown",
   "metadata": {},
   "source": [
    "## Prob 18"
   ]
  },
  {
   "cell_type": "code",
   "execution_count": 35,
   "metadata": {},
   "outputs": [
    {
     "name": "stdout",
     "output_type": "stream",
     "text": [
      "rows: 5\n",
      "1\t\n",
      "2\t3\t\n",
      "4\t5\t6\t\n",
      "7\t8\t9\t10\t\n",
      "11\t12\t13\t14\t15\t\n"
     ]
    }
   ],
   "source": [
    "public class Prob18 {\n",
    "\n",
    "    \n",
    "    public static void main(String[] args) {\n",
    "        \n",
    "\n",
    "        System.out.print(\"rows: \");\n",
    "        Scanner input = new Scanner(System.in);\n",
    "        int num = input.nextInt();\n",
    "        System.out.println(num);\n",
    "\n",
    "        int count = 1;\n",
    "\n",
    "        for (int i = 1; i <= num; i++) {\n",
    "            \n",
    "            for (int j = 1; j <= i; j++) {\n",
    "                System.out.print(count + \"\\t\");\n",
    "                count++;\n",
    "            }\n",
    "            System.out.println();\n",
    "        }\n",
    "    }\n",
    "}\n",
    "\n",
    "Prob18.main(null);"
   ]
  },
  {
   "cell_type": "markdown",
   "metadata": {},
   "source": [
    "## Problem 20"
   ]
  },
  {
   "cell_type": "code",
   "execution_count": 36,
   "metadata": {},
   "outputs": [
    {
     "name": "stdout",
     "output_type": "stream",
     "text": [
      "rows: 5\n",
      "1\t\n",
      "2\t3\t\n",
      "4\t5\t6\t\n",
      "7\t8\t9\t10\t\n",
      "11\t12\t13\t14\t15\t\n"
     ]
    }
   ],
   "source": [
    "public class Prob20 {\n",
    "\n",
    "    \n",
    "    public static void main(String[] args) {\n",
    "        \n",
    "\n",
    "        System.out.print(\"rows: \");\n",
    "        Scanner input = new Scanner(System.in);\n",
    "        int num = input.nextInt();\n",
    "        System.out.println(num);\n",
    "\n",
    "        int count = 1;\n",
    "\n",
    "        for (int i = 1; i <= num; i++) {\n",
    "            \n",
    "            for (int j = 1; j <= i; j++) {\n",
    "                System.out.print(count + \"\\t\");\n",
    "                count++;\n",
    "            }\n",
    "            System.out.println();\n",
    "        }\n",
    "    }\n",
    "}\n",
    "\n",
    "Prob20.main(null);"
   ]
  },
  {
   "cell_type": "markdown",
   "metadata": {},
   "source": [
    "![](../images/quizziz.png)"
   ]
  }
 ],
 "metadata": {
  "kernelspec": {
   "display_name": "Java",
   "language": "java",
   "name": "java"
  },
  "language_info": {
   "codemirror_mode": "java",
   "file_extension": ".jshell",
   "mimetype": "text/x-java-source",
   "name": "java",
   "pygments_lexer": "java",
   "version": "17.0.4.1+1-LTS-2"
  },
  "orig_nbformat": 4,
  "vscode": {
   "interpreter": {
    "hash": "aee8b7b246df8f9039afb4144a1f6fd8d2ca17a180786b69acc140d282b71a49"
   }
  }
 },
 "nbformat": 4,
 "nbformat_minor": 2
}
