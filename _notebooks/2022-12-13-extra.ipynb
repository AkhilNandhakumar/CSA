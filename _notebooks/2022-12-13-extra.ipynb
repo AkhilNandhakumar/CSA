{
 "cells": [
  {
   "cell_type": "markdown",
   "metadata": {},
   "source": [
    "# Compsci Technical Panel\n",
    "> Notes and Reflection\n",
    "\n",
    "- title: Technical Panel Reflection\n",
    "- toc: true\n",
    "- badges: true\n",
    "- comments: true"
   ]
  },
  {
   "cell_type": "markdown",
   "metadata": {},
   "source": [
    "# Notes Taken During Talk"
   ]
  },
  {
   "cell_type": "markdown",
   "metadata": {},
   "source": [
    "### Kathyleen Beveridge:\n",
    "\n",
    "- **Info about her:**\n",
    "    - Born in Vietnam\n",
    "    - Came to California in 1980\n",
    "    - Finance degree from Santa Clara University\n",
    "    - Started off as a stock broker working for Wells Fargo - didn’t enjoy her life\n",
    "    - Felt like working in investing had more of a “one to one” impact, less of a “one to many” impact\n",
    "    - Switched her path to work at tech companies, originally at HP, and then Qualcomm, now at ThermoFisher Scientific\n",
    "    - Works closely with engineering/R&D department to determine if new products fit into a certain market\n",
    "    - Mainly works at companies that use cs to serve the world\n",
    "    - With cs people can make macro-impacts on the world\n",
    "    - Thermo fisher is a biotech company that blends science and cs\n",
    "  \n",
    "    <br>\n",
    "\n",
    "- **Agile Methodology:**\n",
    "\n",
    "    - Always working in short “Sprints”\n",
    "    - Being familiar with agile is highly regarded in the workforce\n",
    "\n",
    "***\n",
    "\n",
    "### Kris Porter\n",
    "\n",
    "- **Info about him:**\n",
    "- Software Engineer\n",
    "    - Went to UCLA for electrical engineering\n",
    "    - Masters in electrical engineering from Cal State Long Beach\n",
    "    - Finished grad school when the stock market crashed, couldn't find jobs\n",
    "    - Found a job at a startup doing DevOps work\n",
    "    - Moved to NBC setting up streaming infrastructure for the Olympics\n",
    "    - Worked for Qualcomm for 6 years \n",
    "    - Latest position working for Twitter\n",
    "    - Going into high tech involved continuous learning which is very important\n",
    "\n",
    "- Agile Methodology:\n",
    "    - Different companies have their own version of Agile\n",
    "    - Interacted together with 150 engineers in large meetings\n",
    "    - Created roadmaps for all projects no matter the size\n",
    "    - Helped build teamwork and coordinate everything\n",
    "\n",
    "- Machine Learning:\n",
    "    - Develop algorithms to try and predict trends and consumer trends\n",
    "    - This can save the company money\n",
    "\n",
    "- General Tips:\n",
    "    - Most Important Skill in tech industry: continuous improvement and learning of new knowledge. \n",
    "    - Don't be super concerned about the things that you read on the news \n",
    "    - The best people are people that listen and translate it to technology that can solve your requirements \n",
    "    - Learning how to code is a way of thinking, thinking about it critically, and you can apply it to all your real word skills and experiences \n"
   ]
  },
  {
   "cell_type": "markdown",
   "metadata": {},
   "source": [
    "# Reflection"
   ]
  },
  {
   "cell_type": "markdown",
   "metadata": {},
   "source": [
    "As a someone looking forward to working in a STEM job, the information I learned from the speakers will be is extremely useful and applicable to me. Both Mr. Porter and Ms. Berveridge spoke on the agile methodology which is something that we have been learning about in class through implementation. They explained that being familiar with agile is highly regarded in the high-tech workforce, and hearing that from them highlighted the importance of using it in CSA class. They explained that the collaboration and teamwork skills we have been using were very effective in their jobs, helping them coordinate projects of all sizes.\n",
    "\n",
    "In addition to that specific skills, Mr. Porter explained that benefits of being knowledgeable in computer science for use in any field or area. For me personally, learning how to code can be a valuable skill in a career in mechanical engineering or aerospace engineering. It is a way of thinking critically and applying those skills to real-world problems. Even though it may not be specifically computer science related, mechanical and aerospace engineering incorporate a large amount of programming, like developing algorithms and simulations to improve the design and performance of specific parts or computers. This illustrates how learning computer science now would definitely help me pursue a career in this field."
   ]
  }
 ],
 "metadata": {
  "kernelspec": {
   "display_name": "Java",
   "language": "java",
   "name": "java"
  },
  "language_info": {
   "name": "java"
  },
  "orig_nbformat": 4
 },
 "nbformat": 4,
 "nbformat_minor": 2
}
