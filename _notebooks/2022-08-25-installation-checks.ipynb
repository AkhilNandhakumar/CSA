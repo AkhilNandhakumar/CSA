{
 "cells": [
  {
   "cell_type": "markdown",
   "metadata": {},
   "source": [
    "# Installation Checks\n",
    "> Bash tests to check installation setup\n",
    "\n",
    "- toc: false \n",
    "- badges: true\n",
    "- comments: true\n",
    "- categories: [Misc-Notebooks]\n",
    "- image: images/download.png\n"
   ]
  },
  {
   "cell_type": "markdown",
   "metadata": {},
   "source": [
    "# Python Check"
   ]
  },
  {
   "cell_type": "code",
   "execution_count": 1,
   "metadata": {
    "vscode": {
     "languageId": "shellscript"
    }
   },
   "outputs": [
    {
     "name": "stdout",
     "output_type": "stream",
     "text": [
      "Python 2.7.18\n",
      "Python 2.7.18\n",
      "Python 3.9.7\n"
     ]
    }
   ],
   "source": [
    "python --version\n",
    "python2 --version\n",
    "python3 --version"
   ]
  },
  {
   "cell_type": "markdown",
   "metadata": {},
   "source": [
    "# Jupyter and Jupyter Kernel Checks"
   ]
  },
  {
   "cell_type": "code",
   "execution_count": 5,
   "metadata": {
    "vscode": {
     "languageId": "shellscript"
    }
   },
   "outputs": [
    {
     "name": "stdout",
     "output_type": "stream",
     "text": [
      "Available kernels:\n",
      "  bash          /Users/nakulnandhakumar/Library/Jupyter/kernels/bash\n",
      "  javascript    /Users/nakulnandhakumar/Library/Jupyter/kernels/javascript\n",
      "  python2       /Library/Frameworks/Python.framework/Versions/2.7/share/jupyter/kernels/python2\n",
      "  java          /usr/local/share/jupyter/kernels/java\n"
     ]
    }
   ],
   "source": [
    "jupyter kernelspec list"
   ]
  },
  {
   "cell_type": "markdown",
   "metadata": {},
   "source": [
    "# Java Check"
   ]
  },
  {
   "cell_type": "code",
   "execution_count": 17,
   "metadata": {
    "vscode": {
     "languageId": "shellscript"
    }
   },
   "outputs": [
    {
     "name": "stdout",
     "output_type": "stream",
     "text": [
      "javac 17.0.4.1\n",
      "java 17.0.4.1 2022-08-18 LTS\n",
      "Java(TM) SE Runtime Environment (build 17.0.4.1+1-LTS-2)\n",
      "Java HotSpot(TM) 64-Bit Server VM (build 17.0.4.1+1-LTS-2, mixed mode, sharing)\n"
     ]
    }
   ],
   "source": [
    "javac --version\n",
    "java --version"
   ]
  },
  {
   "cell_type": "markdown",
   "metadata": {},
   "source": [
    "# Homebrew Check\n",
    "### Anaconda installed through Brew"
   ]
  },
  {
   "cell_type": "code",
   "execution_count": 21,
   "metadata": {
    "vscode": {
     "languageId": "shellscript"
    }
   },
   "outputs": [
    {
     "name": "stdout",
     "output_type": "stream",
     "text": [
      "Homebrew 3.5.9\n",
      "Homebrew/homebrew-core (git revision 8dc01dbd03a; last commit 2022-08-18)\n",
      "Homebrew/homebrew-cask (git revision 8703025552; last commit 2022-08-18)\n",
      "\u001b[34m==>\u001b[0m \u001b[1mFormulae\u001b[0m\n",
      "brotli\t\tgit\t\tlibuv\t\tpcre2\t\twget\n",
      "c-ares\t\ticu4c\t\tmpdecimal\tpython@3.10\txz\n",
      "ca-certificates\tlibidn2\t\tnode\t\tpython@3.9\n",
      "gdbm\t\tlibnghttp2\topenjdk\t\treadline\n",
      "gettext\t\tlibunistring\topenssl@1.1\tsqlite\n",
      "\n",
      "\u001b[34m==>\u001b[0m \u001b[1mCasks\u001b[0m\n",
      "anaconda\n"
     ]
    }
   ],
   "source": [
    "brew --version\n",
    "brew list"
   ]
  }
 ],
 "metadata": {
  "kernelspec": {
   "display_name": "Bash",
   "language": "bash",
   "name": "bash"
  },
  "language_info": {
   "codemirror_mode": "shell",
   "file_extension": ".sh",
   "mimetype": "text/x-sh",
   "name": "bash"
  },
  "orig_nbformat": 4,
  "vscode": {
   "interpreter": {
    "hash": "aee8b7b246df8f9039afb4144a1f6fd8d2ca17a180786b69acc140d282b71a49"
   }
  }
 },
 "nbformat": 4,
 "nbformat_minor": 2
}
