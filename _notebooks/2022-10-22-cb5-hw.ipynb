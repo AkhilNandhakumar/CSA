{
 "cells": [
  {
   "cell_type": "markdown",
   "metadata": {},
   "source": [
    "# Unit 5Homework\n",
    "> Unit 5 Homework\n",
    "\n",
    "- title: Unit 5 Homework\n",
    "- toc: true\n",
    "- badges: true\n",
    "- comments: true\n",
    "- categories: [Unit-5]"
   ]
  },
  {
   "cell_type": "markdown",
   "metadata": {},
   "source": [
    "## 2019 FRQ 2 Answer"
   ]
  },
  {
   "cell_type": "code",
   "execution_count": null,
   "metadata": {
    "vscode": {
     "languageId": "java"
    }
   },
   "outputs": [],
   "source": [
    "public class StepTracker {\n",
    "   \n",
    "    private int totalSteps;\n",
    "    private int minimumSteps;\n",
    "    private int days;\n",
    "    private int activeDays;\n",
    "    \n",
    "    public StepTracker(int min){\n",
    "        minimumSteps = min;\n",
    "        totalSteps = 0;\n",
    "        days = 0;\n",
    "        activeDays = 0;\n",
    "    }\n",
    "\n",
    "    public void addDailySteps(int steps){\n",
    "        totalSteps += steps;\n",
    "        days++;\n",
    "        if (steps >= minSteps){\n",
    "            activeDays++;\n",
    "        }\n",
    "    }\n",
    "\n",
    "    public double averageSteps(){\n",
    "        if (days == 0){\n",
    "            return 0.0;\n",
    "        } \n",
    "\n",
    "        else{\n",
    "            return (double) totalSteps / numDays;\n",
    "        }\n",
    "    }\n",
    "\n",
    "\n",
    "    public int getActiveDays(){\n",
    "        return days;\n",
    "    }\n",
    "\n",
    "}"
   ]
  }
 ],
 "metadata": {
  "kernelspec": {
   "display_name": "Java",
   "language": "java",
   "name": "java"
  },
  "language_info": {
   "codemirror_mode": "java",
   "file_extension": ".jshell",
   "mimetype": "text/x-java-source",
   "name": "Java",
   "pygments_lexer": "java",
   "version": "17.0.4.1+1-LTS-2"
  },
  "orig_nbformat": 4,
  "vscode": {
   "interpreter": {
    "hash": "aee8b7b246df8f9039afb4144a1f6fd8d2ca17a180786b69acc140d282b71a49"
   }
  }
 },
 "nbformat": 4,
 "nbformat_minor": 2
}
