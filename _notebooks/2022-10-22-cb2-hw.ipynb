{
 "cells": [
  {
   "cell_type": "markdown",
   "metadata": {},
   "source": [
    "# Unit 2 Homework\n",
    "> Unit 2 Homework\n",
    "\n",
    "- title: Unit 2 Homework\n",
    "- toc: true\n",
    "- badges: true\n",
    "- comments: true\n",
    "- categories: [Unit-2]"
   ]
  },
  {
   "cell_type": "markdown",
   "metadata": {},
   "source": [
    "## FRQ 2021 1a"
   ]
  },
  {
   "cell_type": "code",
   "execution_count": null,
   "metadata": {},
   "outputs": [],
   "source": [
    "public int scoreGuess (String guess){\n",
    "    int count = 0;\n",
    "    for (int i=0; i<= secret.length()-guess.length(); i++){\n",
    "        if (secret.substring(i, i+guess.length()).equals(guess)){\n",
    "            count++;\n",
    "        }\n",
    "    }\n",
    "    return count*guess.length()*guess.length()\n",
    "}"
   ]
  },
  {
   "cell_type": "markdown",
   "metadata": {},
   "source": [
    "## FRQ 2021 1b"
   ]
  },
  {
   "cell_type": "code",
   "execution_count": null,
   "metadata": {},
   "outputs": [],
   "source": [
    "public String findBetterGuess(String guess1, String guess2){\n",
    "    if (scoreGuess(guess1) > scoreGuess(guess2)){\n",
    "        return guess1;\n",
    "    }\n",
    "    else if (scoreGuess(guess2) > scoreGuess(guess1)){\n",
    "        return guess1p\n",
    "    }\n",
    "    if (guess1.compareTo(guess2) > 0){\n",
    "        return guess1;\n",
    "    } else{\n",
    "        return guess2;\n",
    "    }\n",
    "}"
   ]
  },
  {
   "cell_type": "markdown",
   "metadata": {},
   "source": [
    "## Google Form Quiz"
   ]
  },
  {
   "cell_type": "markdown",
   "metadata": {},
   "source": [
    "![](../images/lesson2quiz.png)"
   ]
  }
 ],
 "metadata": {
  "kernelspec": {
   "display_name": "Java",
   "language": "java",
   "name": "java"
  },
  "language_info": {
   "name": "java"
  },
  "orig_nbformat": 4
 },
 "nbformat": 4,
 "nbformat_minor": 2
}
